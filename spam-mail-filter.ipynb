{
 "cells": [
  {
   "cell_type": "code",
   "execution_count": 1,
   "metadata": {
    "_cell_guid": "b324546d-eedb-469f-ae43-b25a3e70a272",
    "_uuid": "4f26d4c3-b4eb-4324-a1a2-26eed253f0c4",
    "jupyter": {
     "outputs_hidden": false
    },
    "scrolled": true
   },
   "outputs": [],
   "source": [
    "import re\n",
    "import numpy as np \n",
    "import pandas as pd \n",
    "import matplotlib.pyplot as plt\n",
    "import gensim\n",
    "import nltk\n",
    "import math\n",
    "import seaborn as sns\n",
    "from tqdm import tqdm\n",
    "from sklearn.cluster import KMeans\n",
    "import warnings\n",
    "\n",
    "from sklearn.preprocessing import LabelEncoder\n",
    "from sklearn.model_selection import train_test_split, RandomizedSearchCV, GridSearchCV\n",
    "from sklearn.neighbors import KNeighborsClassifier\n",
    "from sklearn.metrics import accuracy_score, precision_score, classification_report,confusion_matrix,ConfusionMatrixDisplay\n",
    "from sklearn.cluster import KMeans\n",
    "from sklearn.pipeline import make_pipeline\n",
    "from sklearn.preprocessing import StandardScaler\n",
    "\n",
    "warnings.filterwarnings('ignore')"
   ]
  },
  {
   "cell_type": "code",
   "execution_count": 2,
   "metadata": {},
   "outputs": [],
   "source": [
    "#!pip install gensim"
   ]
  },
  {
   "cell_type": "code",
   "execution_count": 3,
   "metadata": {
    "_cell_guid": "65a19e26-7ddd-434e-8016-6df1fd972a5e",
    "_uuid": "9da30c23-0f01-42dc-b1b6-65b606c49bae",
    "jupyter": {
     "outputs_hidden": false
    }
   },
   "outputs": [],
   "source": [
    "df = pd.read_csv('spam_ham_dataset.csv')\n",
    "df1 = pd.read_csv('spam.csv',encoding = \"ISO-8859-1\")"
   ]
  },
  {
   "cell_type": "code",
   "execution_count": 4,
   "metadata": {},
   "outputs": [
    {
     "data": {
      "text/html": [
       "<div>\n",
       "<style scoped>\n",
       "    .dataframe tbody tr th:only-of-type {\n",
       "        vertical-align: middle;\n",
       "    }\n",
       "\n",
       "    .dataframe tbody tr th {\n",
       "        vertical-align: top;\n",
       "    }\n",
       "\n",
       "    .dataframe thead th {\n",
       "        text-align: right;\n",
       "    }\n",
       "</style>\n",
       "<table border=\"1\" class=\"dataframe\">\n",
       "  <thead>\n",
       "    <tr style=\"text-align: right;\">\n",
       "      <th></th>\n",
       "      <th>v1</th>\n",
       "      <th>v2</th>\n",
       "      <th>Unnamed: 2</th>\n",
       "      <th>Unnamed: 3</th>\n",
       "      <th>Unnamed: 4</th>\n",
       "    </tr>\n",
       "  </thead>\n",
       "  <tbody>\n",
       "    <tr>\n",
       "      <th>0</th>\n",
       "      <td>ham</td>\n",
       "      <td>Go until jurong point, crazy.. Available only ...</td>\n",
       "      <td>NaN</td>\n",
       "      <td>NaN</td>\n",
       "      <td>NaN</td>\n",
       "    </tr>\n",
       "    <tr>\n",
       "      <th>1</th>\n",
       "      <td>ham</td>\n",
       "      <td>Ok lar... Joking wif u oni...</td>\n",
       "      <td>NaN</td>\n",
       "      <td>NaN</td>\n",
       "      <td>NaN</td>\n",
       "    </tr>\n",
       "    <tr>\n",
       "      <th>2</th>\n",
       "      <td>spam</td>\n",
       "      <td>Free entry in 2 a wkly comp to win FA Cup fina...</td>\n",
       "      <td>NaN</td>\n",
       "      <td>NaN</td>\n",
       "      <td>NaN</td>\n",
       "    </tr>\n",
       "    <tr>\n",
       "      <th>3</th>\n",
       "      <td>ham</td>\n",
       "      <td>U dun say so early hor... U c already then say...</td>\n",
       "      <td>NaN</td>\n",
       "      <td>NaN</td>\n",
       "      <td>NaN</td>\n",
       "    </tr>\n",
       "    <tr>\n",
       "      <th>4</th>\n",
       "      <td>ham</td>\n",
       "      <td>Nah I don't think he goes to usf, he lives aro...</td>\n",
       "      <td>NaN</td>\n",
       "      <td>NaN</td>\n",
       "      <td>NaN</td>\n",
       "    </tr>\n",
       "  </tbody>\n",
       "</table>\n",
       "</div>"
      ],
      "text/plain": [
       "     v1                                                 v2 Unnamed: 2  \\\n",
       "0   ham  Go until jurong point, crazy.. Available only ...        NaN   \n",
       "1   ham                      Ok lar... Joking wif u oni...        NaN   \n",
       "2  spam  Free entry in 2 a wkly comp to win FA Cup fina...        NaN   \n",
       "3   ham  U dun say so early hor... U c already then say...        NaN   \n",
       "4   ham  Nah I don't think he goes to usf, he lives aro...        NaN   \n",
       "\n",
       "  Unnamed: 3 Unnamed: 4  \n",
       "0        NaN        NaN  \n",
       "1        NaN        NaN  \n",
       "2        NaN        NaN  \n",
       "3        NaN        NaN  \n",
       "4        NaN        NaN  "
      ]
     },
     "execution_count": 4,
     "metadata": {},
     "output_type": "execute_result"
    }
   ],
   "source": [
    "df1.head()"
   ]
  },
  {
   "cell_type": "code",
   "execution_count": 5,
   "metadata": {
    "_cell_guid": "6c5a8c66-da7d-4208-b04e-de1abc55634e",
    "_uuid": "3751769f-afaf-4de2-925f-3a7669bdee74",
    "jupyter": {
     "outputs_hidden": false
    }
   },
   "outputs": [
    {
     "name": "stdout",
     "output_type": "stream",
     "text": [
      "df shape: (5171, 4)\n",
      "df1 shape: (5572, 5)\n",
      "==================================================\n",
      "<class 'pandas.core.frame.DataFrame'>\n",
      "RangeIndex: 5171 entries, 0 to 5170\n",
      "Data columns (total 4 columns):\n",
      " #   Column      Non-Null Count  Dtype \n",
      "---  ------      --------------  ----- \n",
      " 0   Unnamed: 0  5171 non-null   int64 \n",
      " 1   label       5171 non-null   object\n",
      " 2   text        5171 non-null   object\n",
      " 3   label_num   5171 non-null   int64 \n",
      "dtypes: int64(2), object(2)\n",
      "memory usage: 161.7+ KB\n",
      "==================================================\n",
      "<class 'pandas.core.frame.DataFrame'>\n",
      "RangeIndex: 5572 entries, 0 to 5571\n",
      "Data columns (total 5 columns):\n",
      " #   Column      Non-Null Count  Dtype \n",
      "---  ------      --------------  ----- \n",
      " 0   v1          5572 non-null   object\n",
      " 1   v2          5572 non-null   object\n",
      " 2   Unnamed: 2  50 non-null     object\n",
      " 3   Unnamed: 3  12 non-null     object\n",
      " 4   Unnamed: 4  6 non-null      object\n",
      "dtypes: object(5)\n",
      "memory usage: 217.8+ KB\n"
     ]
    }
   ],
   "source": [
    "# Print the shape of df and df1\n",
    "print('df shape:', df.shape)\n",
    "print('df1 shape:', df1.shape)\n",
    "\n",
    "# Print a line of equal signs for separation\n",
    "print('='*50)\n",
    "\n",
    "# Print information about df\n",
    "df.info()\n",
    "\n",
    "# Print a line of equal signs for separation\n",
    "print('='*50)\n",
    "\n",
    "# Print information about df1\n",
    "df1.info()\n"
   ]
  },
  {
   "cell_type": "code",
   "execution_count": 6,
   "metadata": {
    "_cell_guid": "9ba89e84-d730-46b1-9856-fe2e94b06023",
    "_uuid": "55fe67f1-dd9f-48a9-8645-f6710aec1ccd",
    "jupyter": {
     "outputs_hidden": false
    }
   },
   "outputs": [
    {
     "data": {
      "text/html": [
       "<div>\n",
       "<style scoped>\n",
       "    .dataframe tbody tr th:only-of-type {\n",
       "        vertical-align: middle;\n",
       "    }\n",
       "\n",
       "    .dataframe tbody tr th {\n",
       "        vertical-align: top;\n",
       "    }\n",
       "\n",
       "    .dataframe thead th {\n",
       "        text-align: right;\n",
       "    }\n",
       "</style>\n",
       "<table border=\"1\" class=\"dataframe\">\n",
       "  <thead>\n",
       "    <tr style=\"text-align: right;\">\n",
       "      <th></th>\n",
       "      <th>Unnamed: 0</th>\n",
       "      <th>label</th>\n",
       "      <th>text</th>\n",
       "      <th>label_num</th>\n",
       "    </tr>\n",
       "  </thead>\n",
       "  <tbody>\n",
       "    <tr>\n",
       "      <th>0</th>\n",
       "      <td>605</td>\n",
       "      <td>ham</td>\n",
       "      <td>Subject: enron methanol ; meter # : 988291\\r\\n...</td>\n",
       "      <td>0</td>\n",
       "    </tr>\n",
       "    <tr>\n",
       "      <th>1</th>\n",
       "      <td>2349</td>\n",
       "      <td>ham</td>\n",
       "      <td>Subject: hpl nom for january 9 , 2001\\r\\n( see...</td>\n",
       "      <td>0</td>\n",
       "    </tr>\n",
       "    <tr>\n",
       "      <th>2</th>\n",
       "      <td>3624</td>\n",
       "      <td>ham</td>\n",
       "      <td>Subject: neon retreat\\r\\nho ho ho , we ' re ar...</td>\n",
       "      <td>0</td>\n",
       "    </tr>\n",
       "    <tr>\n",
       "      <th>3</th>\n",
       "      <td>4685</td>\n",
       "      <td>spam</td>\n",
       "      <td>Subject: photoshop , windows , office . cheap ...</td>\n",
       "      <td>1</td>\n",
       "    </tr>\n",
       "    <tr>\n",
       "      <th>4</th>\n",
       "      <td>2030</td>\n",
       "      <td>ham</td>\n",
       "      <td>Subject: re : indian springs\\r\\nthis deal is t...</td>\n",
       "      <td>0</td>\n",
       "    </tr>\n",
       "  </tbody>\n",
       "</table>\n",
       "</div>"
      ],
      "text/plain": [
       "   Unnamed: 0 label                                               text  \\\n",
       "0         605   ham  Subject: enron methanol ; meter # : 988291\\r\\n...   \n",
       "1        2349   ham  Subject: hpl nom for january 9 , 2001\\r\\n( see...   \n",
       "2        3624   ham  Subject: neon retreat\\r\\nho ho ho , we ' re ar...   \n",
       "3        4685  spam  Subject: photoshop , windows , office . cheap ...   \n",
       "4        2030   ham  Subject: re : indian springs\\r\\nthis deal is t...   \n",
       "\n",
       "   label_num  \n",
       "0          0  \n",
       "1          0  \n",
       "2          0  \n",
       "3          1  \n",
       "4          0  "
      ]
     },
     "execution_count": 6,
     "metadata": {},
     "output_type": "execute_result"
    }
   ],
   "source": [
    "df.head()"
   ]
  },
  {
   "cell_type": "markdown",
   "metadata": {
    "_cell_guid": "2bf942ba-9432-4a28-94d3-cb63a06bfa4a",
    "_uuid": "e0dcb94d-275e-497e-8191-14464c21c2ae"
   },
   "source": [
    "Dropping redundant columns"
   ]
  },
  {
   "cell_type": "code",
   "execution_count": 7,
   "metadata": {
    "_cell_guid": "5ae9c11f-5b73-47f0-b191-dce3cf8d3d10",
    "_uuid": "c8aafe90-d60f-4214-b432-1f6392d6d79c",
    "jupyter": {
     "outputs_hidden": false
    }
   },
   "outputs": [],
   "source": [
    "# Remove 'Unnamed: 0' and 'label_num' columns from df\n",
    "df.drop(['Unnamed: 0', 'label_num'], axis=1, inplace=True)\n",
    "\n",
    "# Remove 'Unnamed: 2', 'Unnamed: 3', and 'Unnamed: 4' columns from df1\n",
    "df1.drop(['Unnamed: 2', 'Unnamed: 3', 'Unnamed: 4'], axis=1, inplace=True)\n"
   ]
  },
  {
   "cell_type": "code",
   "execution_count": 8,
   "metadata": {
    "_cell_guid": "90aa8091-a80a-45eb-b5a4-a2eac7f8bca1",
    "_uuid": "073eecb9-0175-4c19-909d-6839113c05c2",
    "jupyter": {
     "outputs_hidden": false
    }
   },
   "outputs": [
    {
     "data": {
      "text/html": [
       "<div>\n",
       "<style scoped>\n",
       "    .dataframe tbody tr th:only-of-type {\n",
       "        vertical-align: middle;\n",
       "    }\n",
       "\n",
       "    .dataframe tbody tr th {\n",
       "        vertical-align: top;\n",
       "    }\n",
       "\n",
       "    .dataframe thead th {\n",
       "        text-align: right;\n",
       "    }\n",
       "</style>\n",
       "<table border=\"1\" class=\"dataframe\">\n",
       "  <thead>\n",
       "    <tr style=\"text-align: right;\">\n",
       "      <th></th>\n",
       "      <th>label</th>\n",
       "      <th>text</th>\n",
       "    </tr>\n",
       "  </thead>\n",
       "  <tbody>\n",
       "    <tr>\n",
       "      <th>0</th>\n",
       "      <td>ham</td>\n",
       "      <td>Subject: enron methanol ; meter # : 988291\\r\\n...</td>\n",
       "    </tr>\n",
       "    <tr>\n",
       "      <th>1</th>\n",
       "      <td>ham</td>\n",
       "      <td>Subject: hpl nom for january 9 , 2001\\r\\n( see...</td>\n",
       "    </tr>\n",
       "    <tr>\n",
       "      <th>2</th>\n",
       "      <td>ham</td>\n",
       "      <td>Subject: neon retreat\\r\\nho ho ho , we ' re ar...</td>\n",
       "    </tr>\n",
       "    <tr>\n",
       "      <th>3</th>\n",
       "      <td>spam</td>\n",
       "      <td>Subject: photoshop , windows , office . cheap ...</td>\n",
       "    </tr>\n",
       "    <tr>\n",
       "      <th>4</th>\n",
       "      <td>ham</td>\n",
       "      <td>Subject: re : indian springs\\r\\nthis deal is t...</td>\n",
       "    </tr>\n",
       "  </tbody>\n",
       "</table>\n",
       "</div>"
      ],
      "text/plain": [
       "  label                                               text\n",
       "0   ham  Subject: enron methanol ; meter # : 988291\\r\\n...\n",
       "1   ham  Subject: hpl nom for january 9 , 2001\\r\\n( see...\n",
       "2   ham  Subject: neon retreat\\r\\nho ho ho , we ' re ar...\n",
       "3  spam  Subject: photoshop , windows , office . cheap ...\n",
       "4   ham  Subject: re : indian springs\\r\\nthis deal is t..."
      ]
     },
     "execution_count": 8,
     "metadata": {},
     "output_type": "execute_result"
    }
   ],
   "source": [
    "# Rename columns of dataframes and display first few rows of one of them\n",
    "col_names = ['label', 'text']\n",
    "df.columns = col_names\n",
    "df1.columns = col_names\n",
    "df.head()\n"
   ]
  },
  {
   "cell_type": "code",
   "execution_count": 9,
   "metadata": {
    "_cell_guid": "6d46782e-64ff-4230-b5fd-3bfc97f048e7",
    "_uuid": "3e353ad9-1e6a-49d1-9459-07c03edb781d",
    "jupyter": {
     "outputs_hidden": false
    }
   },
   "outputs": [
    {
     "data": {
      "text/html": [
       "<div>\n",
       "<style scoped>\n",
       "    .dataframe tbody tr th:only-of-type {\n",
       "        vertical-align: middle;\n",
       "    }\n",
       "\n",
       "    .dataframe tbody tr th {\n",
       "        vertical-align: top;\n",
       "    }\n",
       "\n",
       "    .dataframe thead th {\n",
       "        text-align: right;\n",
       "    }\n",
       "</style>\n",
       "<table border=\"1\" class=\"dataframe\">\n",
       "  <thead>\n",
       "    <tr style=\"text-align: right;\">\n",
       "      <th></th>\n",
       "      <th>label</th>\n",
       "      <th>text</th>\n",
       "    </tr>\n",
       "  </thead>\n",
       "  <tbody>\n",
       "    <tr>\n",
       "      <th>0</th>\n",
       "      <td>ham</td>\n",
       "      <td>Go until jurong point, crazy.. Available only ...</td>\n",
       "    </tr>\n",
       "    <tr>\n",
       "      <th>1</th>\n",
       "      <td>ham</td>\n",
       "      <td>Ok lar... Joking wif u oni...</td>\n",
       "    </tr>\n",
       "    <tr>\n",
       "      <th>2</th>\n",
       "      <td>spam</td>\n",
       "      <td>Free entry in 2 a wkly comp to win FA Cup fina...</td>\n",
       "    </tr>\n",
       "    <tr>\n",
       "      <th>3</th>\n",
       "      <td>ham</td>\n",
       "      <td>U dun say so early hor... U c already then say...</td>\n",
       "    </tr>\n",
       "    <tr>\n",
       "      <th>4</th>\n",
       "      <td>ham</td>\n",
       "      <td>Nah I don't think he goes to usf, he lives aro...</td>\n",
       "    </tr>\n",
       "  </tbody>\n",
       "</table>\n",
       "</div>"
      ],
      "text/plain": [
       "  label                                               text\n",
       "0   ham  Go until jurong point, crazy.. Available only ...\n",
       "1   ham                      Ok lar... Joking wif u oni...\n",
       "2  spam  Free entry in 2 a wkly comp to win FA Cup fina...\n",
       "3   ham  U dun say so early hor... U c already then say...\n",
       "4   ham  Nah I don't think he goes to usf, he lives aro..."
      ]
     },
     "execution_count": 9,
     "metadata": {},
     "output_type": "execute_result"
    }
   ],
   "source": [
    "df1.head()"
   ]
  },
  {
   "cell_type": "code",
   "execution_count": 10,
   "metadata": {
    "_cell_guid": "b1163831-3005-4228-b8d0-90308123757a",
    "_uuid": "bf89b1b4-79bc-4dfa-aa97-4acabe5b5c6c",
    "jupyter": {
     "outputs_hidden": false
    }
   },
   "outputs": [
    {
     "name": "stdout",
     "output_type": "stream",
     "text": [
      "==============================\n",
      "df Null Value checking:\n",
      " label    0\n",
      "text     0\n",
      "dtype: int64\n",
      "==============================\n",
      "df1 Null Value checking:\n",
      " label    0\n",
      "text     0\n",
      "dtype: int64\n"
     ]
    }
   ],
   "source": [
    "# Print a line of equal signs for visual separation\n",
    "print('='*30)\n",
    "\n",
    "# Check for null values in dataframe df and print results\n",
    "print('df Null Value checking:\\n', df.isnull().sum())\n",
    "\n",
    "# Print another line of equal signs for visual separation\n",
    "print('='*30)\n",
    "\n",
    "# Check for null values in dataframe df1 and print results\n",
    "print('df1 Null Value checking:\\n', df1.isnull().sum())\n"
   ]
  },
  {
   "cell_type": "markdown",
   "metadata": {
    "_cell_guid": "7f2a4f75-b2ae-4e3a-8908-94ba9451ad9e",
    "_uuid": "4b60563b-ded6-428c-8397-2cd9b33b14e3"
   },
   "source": [
    "**Encoding the Labels**"
   ]
  },
  {
   "cell_type": "code",
   "execution_count": 11,
   "metadata": {
    "_cell_guid": "118cee43-cbf1-45c4-9434-a7fa7215d1a3",
    "_uuid": "883b6853-5b20-48e4-ada7-7903ca6c484f",
    "jupyter": {
     "outputs_hidden": false
    }
   },
   "outputs": [],
   "source": [
    "# Initialize a LabelEncoder object\n",
    "le = LabelEncoder()\n",
    "\n",
    "# Use the LabelEncoder object to transform the 'label' column of the 'df' DataFrame\n",
    "df['label'] = le.fit_transform(df['label'])\n",
    "\n",
    "# Use the LabelEncoder object to transform the 'label' column of the 'df1' DataFrame\n",
    "df1['label'] = le.fit_transform(df1['label'])\n"
   ]
  },
  {
   "cell_type": "markdown",
   "metadata": {
    "_cell_guid": "e968c871-f7e2-4d12-a922-364926a91176",
    "_uuid": "b8e00ae3-9fc8-4a4a-9e1d-528b6fcf42b0"
   },
   "source": [
    "**Preprocessing**"
   ]
  },
  {
   "cell_type": "markdown",
   "metadata": {
    "_cell_guid": "86f481bf-6292-436c-bb94-89d91038655f",
    "_uuid": "19355a80-a1c2-4c7a-9889-1e7644cba06c"
   },
   "source": [
    "![Preprocessing](https://www.shutterstock.com/image-vector/filtering-data-illustration-concept-vector-260nw-2065963628.jpg)"
   ]
  },
  {
   "cell_type": "code",
   "execution_count": 12,
   "metadata": {
    "_cell_guid": "f8d72003-0324-44f1-bec0-994594e265ca",
    "_uuid": "aa5e892c-0ed2-4513-84f8-1513a44db8e3",
    "jupyter": {
     "outputs_hidden": false
    }
   },
   "outputs": [],
   "source": [
    "# Remove 'Subject:' from the beginning of each email's text\n",
    "import re\n",
    "def remove_subject(text: str) -> str:\n",
    "    \"\"\"\n",
    "    Remove the 'Subject:' prefix from the email's text.\n",
    "\n",
    "    Parameters:\n",
    "    text (str): The email's text.\n",
    "\n",
    "    Returns:\n",
    "    str: The email's text with 'Subject:' prefix removed.\n",
    "    \"\"\"\n",
    "    return re.sub('^Subject:', '', text)\n",
    "\n",
    "df['text'] = df['text'].apply(remove_subject)\n"
   ]
  },
  {
   "cell_type": "markdown",
   "metadata": {
    "_cell_guid": "c2a1c528-e60d-468b-80b9-9af7c80a243b",
    "_uuid": "19af57ba-8ef5-4c97-9721-1104b8d886cb"
   },
   "source": [
    "Concatination of 2 dfs"
   ]
  },
  {
   "cell_type": "code",
   "execution_count": 13,
   "metadata": {
    "_cell_guid": "7f4ed649-33c9-43e3-9a0b-c824d248fd23",
    "_uuid": "a3652c3f-6759-4b2f-8cbe-30557fcbf6e6",
    "jupyter": {
     "outputs_hidden": false
    }
   },
   "outputs": [
    {
     "data": {
      "text/plain": [
       "0    8497\n",
       "1    2246\n",
       "Name: label, dtype: int64"
      ]
     },
     "execution_count": 13,
     "metadata": {},
     "output_type": "execute_result"
    }
   ],
   "source": [
    "# Concatenate df and df1, and reset index\n",
    "df2 = pd.concat([df, df1])\n",
    "df2.reset_index(drop=True, inplace=True)\n",
    "\n",
    "# Display the value counts of the 'label' column\n",
    "df2.label.value_counts()\n"
   ]
  },
  {
   "cell_type": "code",
   "execution_count": 14,
   "metadata": {},
   "outputs": [
    {
     "data": {
      "text/html": [
       "<div>\n",
       "<style scoped>\n",
       "    .dataframe tbody tr th:only-of-type {\n",
       "        vertical-align: middle;\n",
       "    }\n",
       "\n",
       "    .dataframe tbody tr th {\n",
       "        vertical-align: top;\n",
       "    }\n",
       "\n",
       "    .dataframe thead th {\n",
       "        text-align: right;\n",
       "    }\n",
       "</style>\n",
       "<table border=\"1\" class=\"dataframe\">\n",
       "  <thead>\n",
       "    <tr style=\"text-align: right;\">\n",
       "      <th></th>\n",
       "      <th>label</th>\n",
       "      <th>text</th>\n",
       "    </tr>\n",
       "  </thead>\n",
       "  <tbody>\n",
       "    <tr>\n",
       "      <th>5114</th>\n",
       "      <td>0</td>\n",
       "      <td>deletion of your enrononline user id\\r\\npassw...</td>\n",
       "    </tr>\n",
       "    <tr>\n",
       "      <th>1474</th>\n",
       "      <td>0</td>\n",
       "      <td>tenaska agreement\\r\\ndarren ,\\r\\ndo you know ...</td>\n",
       "    </tr>\n",
       "    <tr>\n",
       "      <th>6442</th>\n",
       "      <td>0</td>\n",
       "      <td>If you still havent collected the dough pls le...</td>\n",
       "    </tr>\n",
       "    <tr>\n",
       "      <th>746</th>\n",
       "      <td>0</td>\n",
       "      <td>fw : men &amp; cars\\r\\nbecause i ' m a man , when...</td>\n",
       "    </tr>\n",
       "    <tr>\n",
       "      <th>7233</th>\n",
       "      <td>0</td>\n",
       "      <td>Is there any training tomorrow?</td>\n",
       "    </tr>\n",
       "  </tbody>\n",
       "</table>\n",
       "</div>"
      ],
      "text/plain": [
       "      label                                               text\n",
       "5114      0   deletion of your enrononline user id\\r\\npassw...\n",
       "1474      0   tenaska agreement\\r\\ndarren ,\\r\\ndo you know ...\n",
       "6442      0  If you still havent collected the dough pls le...\n",
       "746       0   fw : men & cars\\r\\nbecause i ' m a man , when...\n",
       "7233      0                    Is there any training tomorrow?"
      ]
     },
     "execution_count": 14,
     "metadata": {},
     "output_type": "execute_result"
    }
   ],
   "source": [
    "df2.sample(5)"
   ]
  },
  {
   "cell_type": "markdown",
   "metadata": {
    "_cell_guid": "3ca85ec9-fb4d-455c-8675-4b2a622f5d1d",
    "_uuid": "9f8e655b-6690-429f-ae83-3b1d3c4d0b3c"
   },
   "source": [
    "*Spam and Not spam mail count*"
   ]
  },
  {
   "cell_type": "code",
   "execution_count": 15,
   "metadata": {
    "_cell_guid": "863d139d-84a2-4686-bce7-88ca1dadde22",
    "_uuid": "934e653b-48de-4789-956a-ff4fe13ec479",
    "jupyter": {
     "outputs_hidden": false
    }
   },
   "outputs": [
    {
     "data": {
      "image/png": "[encoded data removed]",
      "text/plain": [
       "<Figure size 432x288 with 1 Axes>"
      ]
     },
     "metadata": {},
     "output_type": "display_data"
    }
   ],
   "source": [
    "import matplotlib.pyplot as plt\n",
    "\n",
    "# Create a pie chart of label value counts\n",
    "plt.pie(df2.label.value_counts(), labels=['Not Spam', 'Spam'], autopct='%.2f')\n",
    "\n",
    "# Set the title of the chart\n",
    "plt.title('Spam vs Not Spam')\n",
    "\n",
    "# Display the chart\n",
    "plt.show()\n"
   ]
  },
  {
   "cell_type": "markdown",
   "metadata": {
    "_cell_guid": "3de0a76b-f666-4281-ba4f-165990af3594",
    "_uuid": "bdbf447c-2781-4e7e-a164-ef0e811c65bb"
   },
   "source": [
    "**Cleanning the text**"
   ]
  },
  {
   "cell_type": "code",
   "execution_count": 16,
   "metadata": {
    "_cell_guid": "fedf6f59-4c1d-4f3a-9115-6494d0a9d451",
    "_uuid": "6e7db43d-7f83-401e-99d8-88f87b32bc39",
    "jupyter": {
     "outputs_hidden": false
    }
   },
   "outputs": [
    {
     "data": {
      "text/html": [
       "<div>\n",
       "<style scoped>\n",
       "    .dataframe tbody tr th:only-of-type {\n",
       "        vertical-align: middle;\n",
       "    }\n",
       "\n",
       "    .dataframe tbody tr th {\n",
       "        vertical-align: top;\n",
       "    }\n",
       "\n",
       "    .dataframe thead th {\n",
       "        text-align: right;\n",
       "    }\n",
       "</style>\n",
       "<table border=\"1\" class=\"dataframe\">\n",
       "  <thead>\n",
       "    <tr style=\"text-align: right;\">\n",
       "      <th></th>\n",
       "      <th>label</th>\n",
       "      <th>text</th>\n",
       "      <th>ltext</th>\n",
       "    </tr>\n",
       "  </thead>\n",
       "  <tbody>\n",
       "    <tr>\n",
       "      <th>0</th>\n",
       "      <td>0</td>\n",
       "      <td>enron methanol ; meter # : 988291\\r\\nthis is ...</td>\n",
       "      <td>[enron, methanol, meter, this, is, follow, up,...</td>\n",
       "    </tr>\n",
       "    <tr>\n",
       "      <th>1</th>\n",
       "      <td>0</td>\n",
       "      <td>hpl nom for january 9 , 2001\\r\\n( see attache...</td>\n",
       "      <td>[hpl, nom, for, january, see, attached, file, ...</td>\n",
       "    </tr>\n",
       "    <tr>\n",
       "      <th>2</th>\n",
       "      <td>0</td>\n",
       "      <td>neon retreat\\r\\nho ho ho , we ' re around to ...</td>\n",
       "      <td>[neon, retreat, ho, ho, ho, we, re, around, to...</td>\n",
       "    </tr>\n",
       "    <tr>\n",
       "      <th>3</th>\n",
       "      <td>1</td>\n",
       "      <td>photoshop , windows , office . cheap . main t...</td>\n",
       "      <td>[photoshop, windows, office, cheap, main, tren...</td>\n",
       "    </tr>\n",
       "    <tr>\n",
       "      <th>4</th>\n",
       "      <td>0</td>\n",
       "      <td>re : indian springs\\r\\nthis deal is to book t...</td>\n",
       "      <td>[re, indian, springs, this, deal, is, to, book...</td>\n",
       "    </tr>\n",
       "  </tbody>\n",
       "</table>\n",
       "</div>"
      ],
      "text/plain": [
       "   label                                               text  \\\n",
       "0      0   enron methanol ; meter # : 988291\\r\\nthis is ...   \n",
       "1      0   hpl nom for january 9 , 2001\\r\\n( see attache...   \n",
       "2      0   neon retreat\\r\\nho ho ho , we ' re around to ...   \n",
       "3      1   photoshop , windows , office . cheap . main t...   \n",
       "4      0   re : indian springs\\r\\nthis deal is to book t...   \n",
       "\n",
       "                                               ltext  \n",
       "0  [enron, methanol, meter, this, is, follow, up,...  \n",
       "1  [hpl, nom, for, january, see, attached, file, ...  \n",
       "2  [neon, retreat, ho, ho, ho, we, re, around, to...  \n",
       "3  [photoshop, windows, office, cheap, main, tren...  \n",
       "4  [re, indian, springs, this, deal, is, to, book...  "
      ]
     },
     "execution_count": 16,
     "metadata": {},
     "output_type": "execute_result"
    }
   ],
   "source": [
    "# Tokenize the text in the 'text' column of df2 using gensim.utils.simple_preprocess()\n",
    "# and store the result in the 'ltext' column of df2.\n",
    "df2['ltext'] = df2['text'].apply(gensim.utils.simple_preprocess)\n",
    "df2.head()\n"
   ]
  },
  {
   "cell_type": "markdown",
   "metadata": {
    "_cell_guid": "5644d8a4-a3d7-447d-9fe8-40baf6e70c26",
    "_uuid": "379120db-ce75-4820-afa7-f6be009dda1e"
   },
   "source": [
    "**Word2Vec is a neural network model, that provides a numerical vector representation for a given word. This numerical vector is often called as \"Word Embedding\". Despite other methods of Bag of Words and TF-IDF, Word2Vec takes the context of the word into consideration while converting a word to a numerical vector**"
   ]
  },
  {
   "cell_type": "code",
   "execution_count": 17,
   "metadata": {},
   "outputs": [],
   "source": [
    "df2['ltext_str'] = df2.ltext.apply(lambda x: ' '.join(x))"
   ]
  },
  {
   "cell_type": "code",
   "execution_count": 18,
   "metadata": {},
   "outputs": [
    {
     "data": {
      "text/plain": [
       "10743"
      ]
     },
     "execution_count": 18,
     "metadata": {},
     "output_type": "execute_result"
    }
   ],
   "source": [
    "len(list(df2.ltext_str))"
   ]
  },
  {
   "cell_type": "code",
   "execution_count": 19,
   "metadata": {},
   "outputs": [
    {
     "name": "stdout",
     "output_type": "stream",
     "text": [
      "[0 1]\n"
     ]
    },
    {
     "data": {
      "text/html": [
       "<div>\n",
       "<style scoped>\n",
       "    .dataframe tbody tr th:only-of-type {\n",
       "        vertical-align: middle;\n",
       "    }\n",
       "\n",
       "    .dataframe tbody tr th {\n",
       "        vertical-align: top;\n",
       "    }\n",
       "\n",
       "    .dataframe thead th {\n",
       "        text-align: right;\n",
       "    }\n",
       "</style>\n",
       "<table border=\"1\" class=\"dataframe\">\n",
       "  <thead>\n",
       "    <tr style=\"text-align: right;\">\n",
       "      <th></th>\n",
       "      <th>label</th>\n",
       "      <th>text</th>\n",
       "      <th>ltext</th>\n",
       "      <th>ltext_str</th>\n",
       "    </tr>\n",
       "  </thead>\n",
       "  <tbody>\n",
       "    <tr>\n",
       "      <th>3</th>\n",
       "      <td>1</td>\n",
       "      <td>photoshop , windows , office . cheap . main t...</td>\n",
       "      <td>[photoshop, windows, office, cheap, main, tren...</td>\n",
       "      <td>photoshop windows office cheap main trending a...</td>\n",
       "    </tr>\n",
       "    <tr>\n",
       "      <th>7</th>\n",
       "      <td>1</td>\n",
       "      <td>looking for medication ? we ` re the best sou...</td>\n",
       "      <td>[looking, for, medication, we, re, the, best, ...</td>\n",
       "      <td>looking for medication we re the best source i...</td>\n",
       "    </tr>\n",
       "    <tr>\n",
       "      <th>10</th>\n",
       "      <td>1</td>\n",
       "      <td>vocable % rnd - word asceticism\\r\\nvcsc - bra...</td>\n",
       "      <td>[vocable, rnd, word, asceticism, vcsc, brand, ...</td>\n",
       "      <td>vocable rnd word asceticism vcsc brand new sto...</td>\n",
       "    </tr>\n",
       "    <tr>\n",
       "      <th>11</th>\n",
       "      <td>1</td>\n",
       "      <td>report 01405 !\\r\\nwffur attion brom est inst ...</td>\n",
       "      <td>[report, wffur, attion, brom, est, inst, siupi...</td>\n",
       "      <td>report wffur attion brom est inst siupied pgst...</td>\n",
       "    </tr>\n",
       "    <tr>\n",
       "      <th>13</th>\n",
       "      <td>1</td>\n",
       "      <td>vic . odin n ^ ow\\r\\nberne hotbox carnal brid...</td>\n",
       "      <td>[vic, odin, ow, berne, hotbox, carnal, bride, ...</td>\n",
       "      <td>vic odin ow berne hotbox carnal bride cutworm ...</td>\n",
       "    </tr>\n",
       "    <tr>\n",
       "      <th>...</th>\n",
       "      <td>...</td>\n",
       "      <td>...</td>\n",
       "      <td>...</td>\n",
       "      <td>...</td>\n",
       "    </tr>\n",
       "    <tr>\n",
       "      <th>10708</th>\n",
       "      <td>1</td>\n",
       "      <td>Want explicit SEX in 30 secs? Ring 02073162414...</td>\n",
       "      <td>[want, explicit, sex, in, secs, ring, now, cos...</td>\n",
       "      <td>want explicit sex in secs ring now costs min g...</td>\n",
       "    </tr>\n",
       "    <tr>\n",
       "      <th>10711</th>\n",
       "      <td>1</td>\n",
       "      <td>ASKED 3MOBILE IF 0870 CHATLINES INCLU IN FREE ...</td>\n",
       "      <td>[asked, mobile, if, chatlines, inclu, in, free...</td>\n",
       "      <td>asked mobile if chatlines inclu in free mins i...</td>\n",
       "    </tr>\n",
       "    <tr>\n",
       "      <th>10718</th>\n",
       "      <td>1</td>\n",
       "      <td>Had your contract mobile 11 Mnths? Latest Moto...</td>\n",
       "      <td>[had, your, contract, mobile, mnths, latest, m...</td>\n",
       "      <td>had your contract mobile mnths latest motorola...</td>\n",
       "    </tr>\n",
       "    <tr>\n",
       "      <th>10737</th>\n",
       "      <td>1</td>\n",
       "      <td>REMINDER FROM O2: To get 2.50 pounds free call...</td>\n",
       "      <td>[reminder, from, to, get, pounds, free, call, ...</td>\n",
       "      <td>reminder from to get pounds free call credit a...</td>\n",
       "    </tr>\n",
       "    <tr>\n",
       "      <th>10738</th>\n",
       "      <td>1</td>\n",
       "      <td>This is the 2nd time we have tried 2 contact u...</td>\n",
       "      <td>[this, is, the, nd, time, we, have, tried, con...</td>\n",
       "      <td>this is the nd time we have tried contact have...</td>\n",
       "    </tr>\n",
       "  </tbody>\n",
       "</table>\n",
       "<p>2246 rows × 4 columns</p>\n",
       "</div>"
      ],
      "text/plain": [
       "       label                                               text  \\\n",
       "3          1   photoshop , windows , office . cheap . main t...   \n",
       "7          1   looking for medication ? we ` re the best sou...   \n",
       "10         1   vocable % rnd - word asceticism\\r\\nvcsc - bra...   \n",
       "11         1   report 01405 !\\r\\nwffur attion brom est inst ...   \n",
       "13         1   vic . odin n ^ ow\\r\\nberne hotbox carnal brid...   \n",
       "...      ...                                                ...   \n",
       "10708      1  Want explicit SEX in 30 secs? Ring 02073162414...   \n",
       "10711      1  ASKED 3MOBILE IF 0870 CHATLINES INCLU IN FREE ...   \n",
       "10718      1  Had your contract mobile 11 Mnths? Latest Moto...   \n",
       "10737      1  REMINDER FROM O2: To get 2.50 pounds free call...   \n",
       "10738      1  This is the 2nd time we have tried 2 contact u...   \n",
       "\n",
       "                                                   ltext  \\\n",
       "3      [photoshop, windows, office, cheap, main, tren...   \n",
       "7      [looking, for, medication, we, re, the, best, ...   \n",
       "10     [vocable, rnd, word, asceticism, vcsc, brand, ...   \n",
       "11     [report, wffur, attion, brom, est, inst, siupi...   \n",
       "13     [vic, odin, ow, berne, hotbox, carnal, bride, ...   \n",
       "...                                                  ...   \n",
       "10708  [want, explicit, sex, in, secs, ring, now, cos...   \n",
       "10711  [asked, mobile, if, chatlines, inclu, in, free...   \n",
       "10718  [had, your, contract, mobile, mnths, latest, m...   \n",
       "10737  [reminder, from, to, get, pounds, free, call, ...   \n",
       "10738  [this, is, the, nd, time, we, have, tried, con...   \n",
       "\n",
       "                                               ltext_str  \n",
       "3      photoshop windows office cheap main trending a...  \n",
       "7      looking for medication we re the best source i...  \n",
       "10     vocable rnd word asceticism vcsc brand new sto...  \n",
       "11     report wffur attion brom est inst siupied pgst...  \n",
       "13     vic odin ow berne hotbox carnal bride cutworm ...  \n",
       "...                                                  ...  \n",
       "10708  want explicit sex in secs ring now costs min g...  \n",
       "10711  asked mobile if chatlines inclu in free mins i...  \n",
       "10718  had your contract mobile mnths latest motorola...  \n",
       "10737  reminder from to get pounds free call credit a...  \n",
       "10738  this is the nd time we have tried contact have...  \n",
       "\n",
       "[2246 rows x 4 columns]"
      ]
     },
     "execution_count": 19,
     "metadata": {},
     "output_type": "execute_result"
    }
   ],
   "source": [
    "# Check the unique values in the 'label' column of df2\n",
    "print(df2['label'].unique())\n",
    "\n",
    "df2[df2['label'] == 1]"
   ]
  },
  {
   "cell_type": "code",
   "execution_count": 20,
   "metadata": {},
   "outputs": [
    {
     "name": "stdout",
     "output_type": "stream",
     "text": [
      "                                                    text  label\n",
      "0      enron methanol meter this is follow up to the ...      0\n",
      "1      hpl nom for january see attached file hplnol x...      0\n",
      "2      neon retreat ho ho ho we re around to that mos...      0\n",
      "3      photoshop windows office cheap main trending a...      1\n",
      "4      re indian springs this deal is to book the tec...      0\n",
      "...                                                  ...    ...\n",
      "10738  this is the nd time we have tried contact have...      1\n",
      "10739                 will ì_ going to esplanade fr home      0\n",
      "10740  pity was in mood for that so any other suggest...      0\n",
      "10741  the guy did some bitching but acted like be in...      0\n",
      "10742                          rofl its true to its name      0\n",
      "\n",
      "[10743 rows x 2 columns]\n"
     ]
    }
   ],
   "source": [
    "from cv2 import NBLogCount\n",
    "nbl = NBLogCount(list(df2.ltext_str), list(df2.label))"
   ]
  },
  {
   "cell_type": "code",
   "execution_count": 21,
   "metadata": {
    "_cell_guid": "fad6a046-b455-4ba7-bd3c-5a86eb1611d4",
    "_uuid": "891b3cfb-e0ee-4b40-a893-cd30e78b098d",
    "jupyter": {
     "outputs_hidden": false
    }
   },
   "outputs": [
    {
     "name": "stdout",
     "output_type": "stream",
     "text": [
      "10743\n",
      "5\n"
     ]
    },
    {
     "data": {
      "text/plain": [
       "(3121261, 4030520)"
      ]
     },
     "execution_count": 21,
     "metadata": {},
     "output_type": "execute_result"
    }
   ],
   "source": [
    "import gensim\n",
    "feature_size = 100\n",
    "\n",
    "# Define Word2Vec model with specified parameters\n",
    "embmodel = gensim.models.Word2Vec(\n",
    "    window=10,\n",
    "    min_count=3,\n",
    "    workers=4,\n",
    "    sg=1,\n",
    "    vector_size=feature_size\n",
    ")\n",
    "\n",
    "# Build vocabulary from preprocessed text\n",
    "embmodel.build_vocab(df2.ltext, progress_per=10000)\n",
    "\n",
    "# Print corpus count and number of epochs\n",
    "print(embmodel.corpus_count)\n",
    "print(embmodel.epochs)\n",
    "\n",
    "# Train the model on preprocessed text\n",
    "embmodel.train(df2.ltext, total_examples=embmodel.corpus_count, epochs=embmodel.epochs)\n"
   ]
  },
  {
   "cell_type": "code",
   "execution_count": 22,
   "metadata": {
    "_cell_guid": "22c8ebf7-2010-445b-b3f4-36ea94211aa1",
    "_uuid": "869e55c1-7cb8-4e37-a94a-976f68ea044a",
    "jupyter": {
     "outputs_hidden": false
    }
   },
   "outputs": [],
   "source": [
    "# List all words in vocabulary\n",
    "vocab = list(embmodel.wv.key_to_index.keys())\n",
    "# Get the length of vocabulary\n",
    "vocab_len = len(vocab)\n"
   ]
  },
  {
   "cell_type": "code",
   "execution_count": 23,
   "metadata": {
    "_cell_guid": "82c8b069-5f9b-4b9c-b341-d1f913f4c2e4",
    "_uuid": "55965780-4084-4ce6-8fb9-1ca321560cd6",
    "jupyter": {
     "outputs_hidden": false
    }
   },
   "outputs": [
    {
     "data": {
      "text/plain": [
       "15.868108515779813"
      ]
     },
     "execution_count": 23,
     "metadata": {},
     "output_type": "execute_result"
    }
   ],
   "source": [
    "# for word in sentence:\n",
    "#     if word in vocab:\n",
    "#         fit_result = nbl.fit(word)\n",
    "#         if fit_result is None:\n",
    "#             print(fit_result, word)\n",
    "nbl.fit('monday')"
   ]
  },
  {
   "cell_type": "code",
   "execution_count": 24,
   "metadata": {},
   "outputs": [],
   "source": [
    "# import pickle \n",
    "# pickle.dump(embmodel,open('embedding.pkl','wb'))"
   ]
  },
  {
   "cell_type": "code",
   "execution_count": 25,
   "metadata": {},
   "outputs": [],
   "source": [
    "# pickle.dump(df2,open('Main_data.pkl','wb'))\n",
    "# df2.to_csv('main_data.csv')"
   ]
  },
  {
   "cell_type": "code",
   "execution_count": 26,
   "metadata": {
    "_cell_guid": "79782c35-49d2-405d-ac81-178453197792",
    "_uuid": "49fa94fb-ade6-446e-9965-55116bb362c6",
    "jupyter": {
     "outputs_hidden": false
    }
   },
   "outputs": [],
   "source": [
    "def avg_w2vec(sentence):\n",
    "    \"\"\"\n",
    "    Calculates the average word vector for a given sentence.\n",
    "\n",
    "    Args:\n",
    "        sentence (List[str]): A list of words in a sentence.\n",
    "\n",
    "    Returns:\n",
    "        np.array: The average word vector for the given sentence.\n",
    "                  If no words in the sentence are in the vocabulary, returns np.nan.\n",
    "    \"\"\"\n",
    "    count = 0\n",
    "    vector = np.zeros(feature_size)\n",
    "\n",
    "    for word in sentence:\n",
    "        if word in vocab:\n",
    "            fit_result = nbl.fit(word)\n",
    "            # if fit_result is not None:\n",
    "            vector += embmodel.wv.get_vector(word) #* fit_result\n",
    "            count += 1 # fit_result\n",
    "                \n",
    "    if count != 0:\n",
    "        vector /= count\n",
    "    else:\n",
    "        return np.nan\n",
    "    \n",
    "    return vector\n"
   ]
  },
  {
   "cell_type": "code",
   "execution_count": 27,
   "metadata": {
    "scrolled": true
   },
   "outputs": [],
   "source": [
    "# np.isnan(avg_w2vec('sggb egrhb sfgdf'.split(' '))).sum()"
   ]
  },
  {
   "cell_type": "code",
   "execution_count": 28,
   "metadata": {},
   "outputs": [
    {
     "data": {
      "text/plain": [
       "3        photoshop windows office cheap main trending a...\n",
       "7        looking for medication we re the best source i...\n",
       "10       vocable rnd word asceticism vcsc brand new sto...\n",
       "11       report wffur attion brom est inst siupied pgst...\n",
       "13       vic odin ow berne hotbox carnal bride cutworm ...\n",
       "                               ...                        \n",
       "10708    want explicit sex in secs ring now costs min g...\n",
       "10711    asked mobile if chatlines inclu in free mins i...\n",
       "10718    had your contract mobile mnths latest motorola...\n",
       "10737    reminder from to get pounds free call credit a...\n",
       "10738    this is the nd time we have tried contact have...\n",
       "Name: ltext_str, Length: 2246, dtype: object"
      ]
     },
     "execution_count": 28,
     "metadata": {},
     "output_type": "execute_result"
    }
   ],
   "source": [
    "df2[df2.label == 1]['ltext_str']"
   ]
  },
  {
   "cell_type": "code",
   "execution_count": 29,
   "metadata": {
    "_cell_guid": "bfbf65f5-a9de-49af-88df-c19c3c3e925b",
    "_uuid": "2609b479-ab4e-436d-8400-38b71f5f691d",
    "tags": []
   },
   "outputs": [],
   "source": [
    "# Calculate the average word2vec vector for each value in the 'ltext' column of the dataframe 'df2', and store the result in a new column called 'vec_text'\n",
    "df2['vec_text'] = df2.ltext.apply(avg_w2vec)"
   ]
  },
  {
   "cell_type": "code",
   "execution_count": 30,
   "metadata": {
    "_cell_guid": "25b4f540-4062-4f76-9384-4423cbe2b198",
    "_uuid": "01d534f3-fcc3-43a4-a306-39b7f664e2c2",
    "tags": []
   },
   "outputs": [
    {
     "name": "stdout",
     "output_type": "stream",
     "text": [
      "<class 'pandas.core.frame.DataFrame'>\n",
      "RangeIndex: 10743 entries, 0 to 10742\n",
      "Data columns (total 5 columns):\n",
      " #   Column     Non-Null Count  Dtype \n",
      "---  ------     --------------  ----- \n",
      " 0   label      10743 non-null  int32 \n",
      " 1   text       10743 non-null  object\n",
      " 2   ltext      10743 non-null  object\n",
      " 3   ltext_str  10743 non-null  object\n",
      " 4   vec_text   10718 non-null  object\n",
      "dtypes: int32(1), object(4)\n",
      "memory usage: 377.8+ KB\n"
     ]
    }
   ],
   "source": [
    "df2.info()"
   ]
  },
  {
   "cell_type": "code",
   "execution_count": 31,
   "metadata": {
    "_cell_guid": "b2fe1cf0-c7ce-4313-8eb4-d0eed676cbf8",
    "_uuid": "36aaecd9-7771-4e9d-8f10-f97aeb2cdc08",
    "jupyter": {
     "outputs_hidden": false
    }
   },
   "outputs": [
    {
     "data": {
      "text/html": [
       "<div>\n",
       "<style scoped>\n",
       "    .dataframe tbody tr th:only-of-type {\n",
       "        vertical-align: middle;\n",
       "    }\n",
       "\n",
       "    .dataframe tbody tr th {\n",
       "        vertical-align: top;\n",
       "    }\n",
       "\n",
       "    .dataframe thead th {\n",
       "        text-align: right;\n",
       "    }\n",
       "</style>\n",
       "<table border=\"1\" class=\"dataframe\">\n",
       "  <thead>\n",
       "    <tr style=\"text-align: right;\">\n",
       "      <th></th>\n",
       "      <th>label</th>\n",
       "      <th>text</th>\n",
       "      <th>ltext</th>\n",
       "      <th>ltext_str</th>\n",
       "      <th>vec_text</th>\n",
       "    </tr>\n",
       "  </thead>\n",
       "  <tbody>\n",
       "    <tr>\n",
       "      <th>0</th>\n",
       "      <td>0</td>\n",
       "      <td>enron methanol ; meter # : 988291\\r\\nthis is ...</td>\n",
       "      <td>[enron, methanol, meter, this, is, follow, up,...</td>\n",
       "      <td>enron methanol meter this is follow up to the ...</td>\n",
       "      <td>[-0.1750246809898979, -0.18521137861534953, -0...</td>\n",
       "    </tr>\n",
       "    <tr>\n",
       "      <th>1</th>\n",
       "      <td>0</td>\n",
       "      <td>hpl nom for january 9 , 2001\\r\\n( see attache...</td>\n",
       "      <td>[hpl, nom, for, january, see, attached, file, ...</td>\n",
       "      <td>hpl nom for january see attached file hplnol x...</td>\n",
       "      <td>[-0.11154691570184448, -0.2007362222806974, -0...</td>\n",
       "    </tr>\n",
       "    <tr>\n",
       "      <th>2</th>\n",
       "      <td>0</td>\n",
       "      <td>neon retreat\\r\\nho ho ho , we ' re around to ...</td>\n",
       "      <td>[neon, retreat, ho, ho, ho, we, re, around, to...</td>\n",
       "      <td>neon retreat ho ho ho we re around to that mos...</td>\n",
       "      <td>[-0.09741200884265812, -0.09541546094694237, -...</td>\n",
       "    </tr>\n",
       "    <tr>\n",
       "      <th>3</th>\n",
       "      <td>1</td>\n",
       "      <td>photoshop , windows , office . cheap . main t...</td>\n",
       "      <td>[photoshop, windows, office, cheap, main, tren...</td>\n",
       "      <td>photoshop windows office cheap main trending a...</td>\n",
       "      <td>[-0.27703663233954173, 0.13187608695947206, -0...</td>\n",
       "    </tr>\n",
       "    <tr>\n",
       "      <th>4</th>\n",
       "      <td>0</td>\n",
       "      <td>re : indian springs\\r\\nthis deal is to book t...</td>\n",
       "      <td>[re, indian, springs, this, deal, is, to, book...</td>\n",
       "      <td>re indian springs this deal is to book the tec...</td>\n",
       "      <td>[-0.13664612686261535, -0.08027066323056556, -...</td>\n",
       "    </tr>\n",
       "    <tr>\n",
       "      <th>...</th>\n",
       "      <td>...</td>\n",
       "      <td>...</td>\n",
       "      <td>...</td>\n",
       "      <td>...</td>\n",
       "      <td>...</td>\n",
       "    </tr>\n",
       "    <tr>\n",
       "      <th>10713</th>\n",
       "      <td>1</td>\n",
       "      <td>This is the 2nd time we have tried 2 contact u...</td>\n",
       "      <td>[this, is, the, nd, time, we, have, tried, con...</td>\n",
       "      <td>this is the nd time we have tried contact have...</td>\n",
       "      <td>[-0.17462410990148783, -0.1602917899377644, -0...</td>\n",
       "    </tr>\n",
       "    <tr>\n",
       "      <th>10714</th>\n",
       "      <td>0</td>\n",
       "      <td>Will Ì_ b going to esplanade fr home?</td>\n",
       "      <td>[will, ì_, going, to, esplanade, fr, home]</td>\n",
       "      <td>will ì_ going to esplanade fr home</td>\n",
       "      <td>[0.01834302009748561, -0.01560907278742109, -0...</td>\n",
       "    </tr>\n",
       "    <tr>\n",
       "      <th>10715</th>\n",
       "      <td>0</td>\n",
       "      <td>Pity, * was in mood for that. So...any other s...</td>\n",
       "      <td>[pity, was, in, mood, for, that, so, any, othe...</td>\n",
       "      <td>pity was in mood for that so any other suggest...</td>\n",
       "      <td>[0.04828500457935863, -0.08549740496608946, -0...</td>\n",
       "    </tr>\n",
       "    <tr>\n",
       "      <th>10716</th>\n",
       "      <td>0</td>\n",
       "      <td>The guy did some bitching but I acted like i'd...</td>\n",
       "      <td>[the, guy, did, some, bitching, but, acted, li...</td>\n",
       "      <td>the guy did some bitching but acted like be in...</td>\n",
       "      <td>[-0.08939174477658841, -0.07176599775139829, -...</td>\n",
       "    </tr>\n",
       "    <tr>\n",
       "      <th>10717</th>\n",
       "      <td>0</td>\n",
       "      <td>Rofl. Its true to its name</td>\n",
       "      <td>[rofl, its, true, to, its, name]</td>\n",
       "      <td>rofl its true to its name</td>\n",
       "      <td>[-0.07909252056075881, -0.27593270782381296, 0...</td>\n",
       "    </tr>\n",
       "  </tbody>\n",
       "</table>\n",
       "<p>10718 rows × 5 columns</p>\n",
       "</div>"
      ],
      "text/plain": [
       "       label                                               text  \\\n",
       "0          0   enron methanol ; meter # : 988291\\r\\nthis is ...   \n",
       "1          0   hpl nom for january 9 , 2001\\r\\n( see attache...   \n",
       "2          0   neon retreat\\r\\nho ho ho , we ' re around to ...   \n",
       "3          1   photoshop , windows , office . cheap . main t...   \n",
       "4          0   re : indian springs\\r\\nthis deal is to book t...   \n",
       "...      ...                                                ...   \n",
       "10713      1  This is the 2nd time we have tried 2 contact u...   \n",
       "10714      0              Will Ì_ b going to esplanade fr home?   \n",
       "10715      0  Pity, * was in mood for that. So...any other s...   \n",
       "10716      0  The guy did some bitching but I acted like i'd...   \n",
       "10717      0                         Rofl. Its true to its name   \n",
       "\n",
       "                                                   ltext  \\\n",
       "0      [enron, methanol, meter, this, is, follow, up,...   \n",
       "1      [hpl, nom, for, january, see, attached, file, ...   \n",
       "2      [neon, retreat, ho, ho, ho, we, re, around, to...   \n",
       "3      [photoshop, windows, office, cheap, main, tren...   \n",
       "4      [re, indian, springs, this, deal, is, to, book...   \n",
       "...                                                  ...   \n",
       "10713  [this, is, the, nd, time, we, have, tried, con...   \n",
       "10714         [will, ì_, going, to, esplanade, fr, home]   \n",
       "10715  [pity, was, in, mood, for, that, so, any, othe...   \n",
       "10716  [the, guy, did, some, bitching, but, acted, li...   \n",
       "10717                   [rofl, its, true, to, its, name]   \n",
       "\n",
       "                                               ltext_str  \\\n",
       "0      enron methanol meter this is follow up to the ...   \n",
       "1      hpl nom for january see attached file hplnol x...   \n",
       "2      neon retreat ho ho ho we re around to that mos...   \n",
       "3      photoshop windows office cheap main trending a...   \n",
       "4      re indian springs this deal is to book the tec...   \n",
       "...                                                  ...   \n",
       "10713  this is the nd time we have tried contact have...   \n",
       "10714                 will ì_ going to esplanade fr home   \n",
       "10715  pity was in mood for that so any other suggest...   \n",
       "10716  the guy did some bitching but acted like be in...   \n",
       "10717                          rofl its true to its name   \n",
       "\n",
       "                                                vec_text  \n",
       "0      [-0.1750246809898979, -0.18521137861534953, -0...  \n",
       "1      [-0.11154691570184448, -0.2007362222806974, -0...  \n",
       "2      [-0.09741200884265812, -0.09541546094694237, -...  \n",
       "3      [-0.27703663233954173, 0.13187608695947206, -0...  \n",
       "4      [-0.13664612686261535, -0.08027066323056556, -...  \n",
       "...                                                  ...  \n",
       "10713  [-0.17462410990148783, -0.1602917899377644, -0...  \n",
       "10714  [0.01834302009748561, -0.01560907278742109, -0...  \n",
       "10715  [0.04828500457935863, -0.08549740496608946, -0...  \n",
       "10716  [-0.08939174477658841, -0.07176599775139829, -...  \n",
       "10717  [-0.07909252056075881, -0.27593270782381296, 0...  \n",
       "\n",
       "[10718 rows x 5 columns]"
      ]
     },
     "execution_count": 31,
     "metadata": {},
     "output_type": "execute_result"
    }
   ],
   "source": [
    "# Drop rows with null values and reset the index\n",
    "df2.dropna(inplace=True)\n",
    "df2.reset_index(drop=True)"
   ]
  },
  {
   "cell_type": "code",
   "execution_count": 32,
   "metadata": {
    "_cell_guid": "3ec41583-0515-484b-9c40-599d9072d49a",
    "_uuid": "1d5c4a6d-e421-40eb-9ae7-b0611a47755f",
    "jupyter": {
     "outputs_hidden": false
    }
   },
   "outputs": [
    {
     "data": {
      "text/html": [
       "<div>\n",
       "<style scoped>\n",
       "    .dataframe tbody tr th:only-of-type {\n",
       "        vertical-align: middle;\n",
       "    }\n",
       "\n",
       "    .dataframe tbody tr th {\n",
       "        vertical-align: top;\n",
       "    }\n",
       "\n",
       "    .dataframe thead th {\n",
       "        text-align: right;\n",
       "    }\n",
       "</style>\n",
       "<table border=\"1\" class=\"dataframe\">\n",
       "  <thead>\n",
       "    <tr style=\"text-align: right;\">\n",
       "      <th></th>\n",
       "      <th>label</th>\n",
       "      <th>text</th>\n",
       "      <th>ltext</th>\n",
       "      <th>ltext_str</th>\n",
       "      <th>vec_text</th>\n",
       "    </tr>\n",
       "  </thead>\n",
       "  <tbody>\n",
       "    <tr>\n",
       "      <th>0</th>\n",
       "      <td>0</td>\n",
       "      <td>enron methanol ; meter # : 988291\\r\\nthis is ...</td>\n",
       "      <td>[enron, methanol, meter, this, is, follow, up,...</td>\n",
       "      <td>enron methanol meter this is follow up to the ...</td>\n",
       "      <td>[-0.1750246809898979, -0.18521137861534953, -0...</td>\n",
       "    </tr>\n",
       "    <tr>\n",
       "      <th>1</th>\n",
       "      <td>0</td>\n",
       "      <td>hpl nom for january 9 , 2001\\r\\n( see attache...</td>\n",
       "      <td>[hpl, nom, for, january, see, attached, file, ...</td>\n",
       "      <td>hpl nom for january see attached file hplnol x...</td>\n",
       "      <td>[-0.11154691570184448, -0.2007362222806974, -0...</td>\n",
       "    </tr>\n",
       "    <tr>\n",
       "      <th>2</th>\n",
       "      <td>0</td>\n",
       "      <td>neon retreat\\r\\nho ho ho , we ' re around to ...</td>\n",
       "      <td>[neon, retreat, ho, ho, ho, we, re, around, to...</td>\n",
       "      <td>neon retreat ho ho ho we re around to that mos...</td>\n",
       "      <td>[-0.09741200884265812, -0.09541546094694237, -...</td>\n",
       "    </tr>\n",
       "    <tr>\n",
       "      <th>3</th>\n",
       "      <td>1</td>\n",
       "      <td>photoshop , windows , office . cheap . main t...</td>\n",
       "      <td>[photoshop, windows, office, cheap, main, tren...</td>\n",
       "      <td>photoshop windows office cheap main trending a...</td>\n",
       "      <td>[-0.27703663233954173, 0.13187608695947206, -0...</td>\n",
       "    </tr>\n",
       "    <tr>\n",
       "      <th>4</th>\n",
       "      <td>0</td>\n",
       "      <td>re : indian springs\\r\\nthis deal is to book t...</td>\n",
       "      <td>[re, indian, springs, this, deal, is, to, book...</td>\n",
       "      <td>re indian springs this deal is to book the tec...</td>\n",
       "      <td>[-0.13664612686261535, -0.08027066323056556, -...</td>\n",
       "    </tr>\n",
       "  </tbody>\n",
       "</table>\n",
       "</div>"
      ],
      "text/plain": [
       "   label                                               text  \\\n",
       "0      0   enron methanol ; meter # : 988291\\r\\nthis is ...   \n",
       "1      0   hpl nom for january 9 , 2001\\r\\n( see attache...   \n",
       "2      0   neon retreat\\r\\nho ho ho , we ' re around to ...   \n",
       "3      1   photoshop , windows , office . cheap . main t...   \n",
       "4      0   re : indian springs\\r\\nthis deal is to book t...   \n",
       "\n",
       "                                               ltext  \\\n",
       "0  [enron, methanol, meter, this, is, follow, up,...   \n",
       "1  [hpl, nom, for, january, see, attached, file, ...   \n",
       "2  [neon, retreat, ho, ho, ho, we, re, around, to...   \n",
       "3  [photoshop, windows, office, cheap, main, tren...   \n",
       "4  [re, indian, springs, this, deal, is, to, book...   \n",
       "\n",
       "                                           ltext_str  \\\n",
       "0  enron methanol meter this is follow up to the ...   \n",
       "1  hpl nom for january see attached file hplnol x...   \n",
       "2  neon retreat ho ho ho we re around to that mos...   \n",
       "3  photoshop windows office cheap main trending a...   \n",
       "4  re indian springs this deal is to book the tec...   \n",
       "\n",
       "                                            vec_text  \n",
       "0  [-0.1750246809898979, -0.18521137861534953, -0...  \n",
       "1  [-0.11154691570184448, -0.2007362222806974, -0...  \n",
       "2  [-0.09741200884265812, -0.09541546094694237, -...  \n",
       "3  [-0.27703663233954173, 0.13187608695947206, -0...  \n",
       "4  [-0.13664612686261535, -0.08027066323056556, -...  "
      ]
     },
     "execution_count": 32,
     "metadata": {},
     "output_type": "execute_result"
    }
   ],
   "source": [
    "df2.head(5)"
   ]
  },
  {
   "cell_type": "code",
   "execution_count": 33,
   "metadata": {},
   "outputs": [],
   "source": [
    "# Importing the StandardScaler class from the sklearn.preprocessing module\n",
    "from sklearn.preprocessing import StandardScaler\n",
    "# Creating an instance of the StandardScaler class\n",
    "scl = StandardScaler()"
   ]
  },
  {
   "cell_type": "code",
   "execution_count": 34,
   "metadata": {
    "_cell_guid": "96a0114d-066d-48ce-bf9b-682f170bef48",
    "_uuid": "eb3ff5cb-a96b-409d-9782-80259b46c75a",
    "jupyter": {
     "outputs_hidden": false
    }
   },
   "outputs": [
    {
     "name": "stdout",
     "output_type": "stream",
     "text": [
      "X_train_scaled shape: (7181, 100)\n",
      "X_test_scaled shape: (3537, 100)\n",
      "y_train shape: (7181,)\n",
      "y_test shape: (3537,)\n"
     ]
    }
   ],
   "source": [
    "# Splitting the data into train and test sets, and scaling the features\n",
    "\n",
    "import numpy as np\n",
    "from sklearn.model_selection import train_test_split\n",
    "from sklearn.preprocessing import StandardScaler\n",
    "\n",
    "X = df2['vec_text']\n",
    "y = df2['label']\n",
    "\n",
    "X = np.vstack(X.values)\n",
    "\n",
    "X_train, X_test, y_train, y_test = train_test_split(X, y, stratify=y, test_size=0.33, random_state=109)\n",
    "\n",
    "scl = StandardScaler()\n",
    "X_train_scaled = scl.fit_transform(X_train)\n",
    "X_test_scaled = scl.transform(X_test)\n",
    "\n",
    "# Printing the shapes of the scaled datasets and the labels\n",
    "print(f\"X_train_scaled shape: {X_train_scaled.shape}\")\n",
    "print(f\"X_test_scaled shape: {X_test_scaled.shape}\")\n",
    "print(f\"y_train shape: {y_train.shape}\")\n",
    "print(f\"y_test shape: {y_test.shape}\")\n"
   ]
  },
  {
   "cell_type": "code",
   "execution_count": 53,
   "metadata": {
    "_cell_guid": "0809cfb7-d03b-40a7-a987-b39df8274bb7",
    "_uuid": "88e2f73c-a90e-42fc-813a-66ae3fc891c0",
    "jupyter": {
     "outputs_hidden": false
    }
   },
   "outputs": [],
   "source": [
    "np.savetxt('matrix.csv', X_train_scaled, delimiter=',')"
   ]
  },
  {
   "cell_type": "markdown",
   "metadata": {},
   "source": [
    "# ML Algorithm"
   ]
  },
  {
   "cell_type": "code",
   "execution_count": 54,
   "metadata": {},
   "outputs": [],
   "source": [
    "# !pip install xgboost"
   ]
  },
  {
   "cell_type": "code",
   "execution_count": 55,
   "metadata": {
    "_cell_guid": "5ee41048-f5b4-45c6-a8f8-25bc8ec19f0c",
    "_uuid": "cf1ec457-a220-4812-bc8a-ec5f843a316b",
    "jupyter": {
     "outputs_hidden": false
    }
   },
   "outputs": [],
   "source": [
    "# Import statements\n",
    "from sklearn.svm import SVC\n",
    "from sklearn.neighbors import KNeighborsClassifier\n",
    "from sklearn.naive_bayes import GaussianNB\n",
    "from sklearn.tree import DecisionTreeClassifier\n",
    "from sklearn.linear_model import LogisticRegression\n",
    "from sklearn.ensemble import RandomForestClassifier, AdaBoostClassifier, BaggingClassifier, ExtraTreesClassifier, GradientBoostingClassifier\n",
    "from xgboost import XGBClassifier"
   ]
  },
  {
   "cell_type": "code",
   "execution_count": 56,
   "metadata": {},
   "outputs": [],
   "source": [
    "# Initialize classifiers\n",
    "svc = SVC(kernel='rbf', gamma=0.01, C=10)\n",
    "knc = KNeighborsClassifier(n_neighbors=10)\n",
    "gnb = GaussianNB()\n",
    "dtc = DecisionTreeClassifier(criterion='entropy', max_depth=50, splitter='random')\n",
    "lrc = LogisticRegression(C=500, solver='newton-cg', penalty='l2')\n",
    "rfc = RandomForestClassifier(bootstrap=True, n_estimators=50, max_depth=50,max_leaf_nodes=100)\n",
    "abc = AdaBoostClassifier(n_estimators=50)\n",
    "bc = BaggingClassifier(n_estimators=150)\n",
    "etc = ExtraTreesClassifier(n_estimators=100)\n",
    "gbdt = GradientBoostingClassifier(n_estimators=100)\n",
    "xgb = XGBClassifier(n_estimators = 50)"
   ]
  },
  {
   "cell_type": "code",
   "execution_count": 57,
   "metadata": {},
   "outputs": [],
   "source": [
    "clfs = {\n",
    "    'SVC': svc,\n",
    "    'KN': knc,\n",
    "    'GNB': gnb,\n",
    "    'DT': dtc,\n",
    "    'LR': lrc,\n",
    "    'RF': rfc,\n",
    "    'AdaBoost': abc,\n",
    "    'BgC': bc,\n",
    "    'ETC': etc,\n",
    "    'GBDT': gbdt,\n",
    "    'XGB':xgb\n",
    "}\n"
   ]
  },
  {
   "cell_type": "code",
   "execution_count": 58,
   "metadata": {},
   "outputs": [],
   "source": [
    "def train_classifier(clf, X_train, y_train, X_test, y_test):\n",
    "    \"\"\"\n",
    "    Train a classifier on the given training data and return the accuracy and precision on the test data.\n",
    "    \n",
    "    Args:\n",
    "    clf: A scikit-learn classifier object.\n",
    "    X_train: A 2D numpy array of shape (n_samples, n_features) representing the training data.\n",
    "    y_train: A 1D numpy array of shape (n_samples,) representing the labels for the training data.\n",
    "    X_test: A 2D numpy array of shape (n_samples, n_features) representing the test data.\n",
    "    y_test: A 1D numpy array of shape (n_samples,) representing the labels for the test data.\n",
    "    \n",
    "    Returns:\n",
    "    A tuple containing the accuracy and precision of the trained classifier on the test data.\n",
    "    \"\"\"\n",
    "    clf.fit(X_train, y_train)\n",
    "    y_pred = clf.predict(X_test) \n",
    "    accuracy = accuracy_score(y_test, y_pred)\n",
    "    precision = precision_score(y_test, y_pred)\n",
    "    return accuracy, precision"
   ]
  },
  {
   "cell_type": "code",
   "execution_count": 59,
   "metadata": {},
   "outputs": [
    {
     "data": {
      "text/plain": [
       "(0.9488266892847046, 0.9248466257668712)"
      ]
     },
     "execution_count": 59,
     "metadata": {},
     "output_type": "execute_result"
    }
   ],
   "source": [
    "train_classifier(rfc,X_train_scaled,y_train,X_test_scaled,y_test)"
   ]
  },
  {
   "cell_type": "code",
   "execution_count": 60,
   "metadata": {
    "scrolled": true
   },
   "outputs": [
    {
     "name": "stdout",
     "output_type": "stream",
     "text": [
      "For SVC, Accuracy: 0.9615493355951371 and Precision: 0.9131034482758621\n",
      "For KN, Accuracy: 0.9290359061351428 and Precision: 0.7807424593967517\n",
      "For GNB, Accuracy: 0.8281029120723777 and Precision: 0.5494933749025721\n",
      "For DT, Accuracy: 0.9123551031947978 and Precision: 0.776332899869961\n",
      "For LR, Accuracy: 0.9256432004523607 and Precision: 0.8361823361823362\n",
      "For RF, Accuracy: 0.9502403166525304 and Precision: 0.9319938176197836\n",
      "For AdaBoost, Accuracy: 0.9338422391857506 and Precision: 0.8344459279038718\n",
      "For BgC, Accuracy: 0.9567430025445293 and Precision: 0.9254385964912281\n",
      "For ETC, Accuracy: 0.9609838846480068 and Precision: 0.952959028831563\n",
      "For GBDT, Accuracy: 0.9522193949674865 and Precision: 0.8974719101123596\n",
      "For XGB, Accuracy: 0.95787390443879 and Precision: 0.9103641456582633\n"
     ]
    }
   ],
   "source": [
    "# Create empty lists to store accuracy and precision scores\n",
    "accuracy_scores = []\n",
    "precision_scores = []\n",
    "\n",
    "# Loop through the classifiers and train them\n",
    "for name, clf in clfs.items():\n",
    "    current_accuracy, current_precision = train_classifier(clf, X_train_scaled, y_train, X_test_scaled, y_test)\n",
    "    \n",
    "    # Print the accuracy and precision scores for each classifier\n",
    "    print(f'For {name}, Accuracy: {current_accuracy} and Precision: {current_precision}')\n",
    "    \n",
    "    # Append the accuracy and precision scores to the respective lists\n",
    "    accuracy_scores.append(current_accuracy)\n",
    "    precision_scores.append(current_precision)\n"
   ]
  },
  {
   "cell_type": "code",
   "execution_count": 61,
   "metadata": {},
   "outputs": [],
   "source": [
    "# pickle.dump(rfc,open('RF.pkl','wb'))"
   ]
  },
  {
   "cell_type": "code",
   "execution_count": 62,
   "metadata": {},
   "outputs": [],
   "source": [
    "import pandas as pd\n",
    "\n",
    "# create a dataframe with algorithm names, accuracy scores, and precision scores\n",
    "performance_df = pd.DataFrame({\n",
    "    'Algorithm': clfs.keys(),\n",
    "    'Accuracy': accuracy_scores,\n",
    "    'Precision': precision_scores\n",
    "})\n"
   ]
  },
  {
   "cell_type": "code",
   "execution_count": 63,
   "metadata": {},
   "outputs": [
    {
     "data": {
      "text/html": [
       "<div>\n",
       "<style scoped>\n",
       "    .dataframe tbody tr th:only-of-type {\n",
       "        vertical-align: middle;\n",
       "    }\n",
       "\n",
       "    .dataframe tbody tr th {\n",
       "        vertical-align: top;\n",
       "    }\n",
       "\n",
       "    .dataframe thead th {\n",
       "        text-align: right;\n",
       "    }\n",
       "</style>\n",
       "<table border=\"1\" class=\"dataframe\">\n",
       "  <thead>\n",
       "    <tr style=\"text-align: right;\">\n",
       "      <th></th>\n",
       "      <th>Algorithm</th>\n",
       "      <th>Accuracy</th>\n",
       "      <th>Precision</th>\n",
       "    </tr>\n",
       "  </thead>\n",
       "  <tbody>\n",
       "    <tr>\n",
       "      <th>0</th>\n",
       "      <td>SVC</td>\n",
       "      <td>0.961549</td>\n",
       "      <td>0.913103</td>\n",
       "    </tr>\n",
       "    <tr>\n",
       "      <th>1</th>\n",
       "      <td>KN</td>\n",
       "      <td>0.929036</td>\n",
       "      <td>0.780742</td>\n",
       "    </tr>\n",
       "    <tr>\n",
       "      <th>2</th>\n",
       "      <td>GNB</td>\n",
       "      <td>0.828103</td>\n",
       "      <td>0.549493</td>\n",
       "    </tr>\n",
       "    <tr>\n",
       "      <th>3</th>\n",
       "      <td>DT</td>\n",
       "      <td>0.912355</td>\n",
       "      <td>0.776333</td>\n",
       "    </tr>\n",
       "    <tr>\n",
       "      <th>4</th>\n",
       "      <td>LR</td>\n",
       "      <td>0.925643</td>\n",
       "      <td>0.836182</td>\n",
       "    </tr>\n",
       "    <tr>\n",
       "      <th>5</th>\n",
       "      <td>RF</td>\n",
       "      <td>0.950240</td>\n",
       "      <td>0.931994</td>\n",
       "    </tr>\n",
       "    <tr>\n",
       "      <th>6</th>\n",
       "      <td>AdaBoost</td>\n",
       "      <td>0.933842</td>\n",
       "      <td>0.834446</td>\n",
       "    </tr>\n",
       "    <tr>\n",
       "      <th>7</th>\n",
       "      <td>BgC</td>\n",
       "      <td>0.956743</td>\n",
       "      <td>0.925439</td>\n",
       "    </tr>\n",
       "    <tr>\n",
       "      <th>8</th>\n",
       "      <td>ETC</td>\n",
       "      <td>0.960984</td>\n",
       "      <td>0.952959</td>\n",
       "    </tr>\n",
       "    <tr>\n",
       "      <th>9</th>\n",
       "      <td>GBDT</td>\n",
       "      <td>0.952219</td>\n",
       "      <td>0.897472</td>\n",
       "    </tr>\n",
       "    <tr>\n",
       "      <th>10</th>\n",
       "      <td>XGB</td>\n",
       "      <td>0.957874</td>\n",
       "      <td>0.910364</td>\n",
       "    </tr>\n",
       "  </tbody>\n",
       "</table>\n",
       "</div>"
      ],
      "text/plain": [
       "   Algorithm  Accuracy  Precision\n",
       "0        SVC  0.961549   0.913103\n",
       "1         KN  0.929036   0.780742\n",
       "2        GNB  0.828103   0.549493\n",
       "3         DT  0.912355   0.776333\n",
       "4         LR  0.925643   0.836182\n",
       "5         RF  0.950240   0.931994\n",
       "6   AdaBoost  0.933842   0.834446\n",
       "7        BgC  0.956743   0.925439\n",
       "8        ETC  0.960984   0.952959\n",
       "9       GBDT  0.952219   0.897472\n",
       "10       XGB  0.957874   0.910364"
      ]
     },
     "execution_count": 63,
     "metadata": {},
     "output_type": "execute_result"
    }
   ],
   "source": [
    "performance_df"
   ]
  },
  {
   "cell_type": "code",
   "execution_count": 64,
   "metadata": {},
   "outputs": [
    {
     "data": {
      "text/html": [
       "<div>\n",
       "<style scoped>\n",
       "    .dataframe tbody tr th:only-of-type {\n",
       "        vertical-align: middle;\n",
       "    }\n",
       "\n",
       "    .dataframe tbody tr th {\n",
       "        vertical-align: top;\n",
       "    }\n",
       "\n",
       "    .dataframe thead th {\n",
       "        text-align: right;\n",
       "    }\n",
       "</style>\n",
       "<table border=\"1\" class=\"dataframe\">\n",
       "  <thead>\n",
       "    <tr style=\"text-align: right;\">\n",
       "      <th></th>\n",
       "      <th>Algorithm</th>\n",
       "      <th>Accuracy</th>\n",
       "      <th>Precision</th>\n",
       "    </tr>\n",
       "  </thead>\n",
       "  <tbody>\n",
       "    <tr>\n",
       "      <th>8</th>\n",
       "      <td>ETC</td>\n",
       "      <td>0.960984</td>\n",
       "      <td>0.952959</td>\n",
       "    </tr>\n",
       "    <tr>\n",
       "      <th>5</th>\n",
       "      <td>RF</td>\n",
       "      <td>0.950240</td>\n",
       "      <td>0.931994</td>\n",
       "    </tr>\n",
       "    <tr>\n",
       "      <th>7</th>\n",
       "      <td>BgC</td>\n",
       "      <td>0.956743</td>\n",
       "      <td>0.925439</td>\n",
       "    </tr>\n",
       "    <tr>\n",
       "      <th>0</th>\n",
       "      <td>SVC</td>\n",
       "      <td>0.961549</td>\n",
       "      <td>0.913103</td>\n",
       "    </tr>\n",
       "    <tr>\n",
       "      <th>10</th>\n",
       "      <td>XGB</td>\n",
       "      <td>0.957874</td>\n",
       "      <td>0.910364</td>\n",
       "    </tr>\n",
       "    <tr>\n",
       "      <th>9</th>\n",
       "      <td>GBDT</td>\n",
       "      <td>0.952219</td>\n",
       "      <td>0.897472</td>\n",
       "    </tr>\n",
       "    <tr>\n",
       "      <th>4</th>\n",
       "      <td>LR</td>\n",
       "      <td>0.925643</td>\n",
       "      <td>0.836182</td>\n",
       "    </tr>\n",
       "    <tr>\n",
       "      <th>6</th>\n",
       "      <td>AdaBoost</td>\n",
       "      <td>0.933842</td>\n",
       "      <td>0.834446</td>\n",
       "    </tr>\n",
       "    <tr>\n",
       "      <th>1</th>\n",
       "      <td>KN</td>\n",
       "      <td>0.929036</td>\n",
       "      <td>0.780742</td>\n",
       "    </tr>\n",
       "    <tr>\n",
       "      <th>3</th>\n",
       "      <td>DT</td>\n",
       "      <td>0.912355</td>\n",
       "      <td>0.776333</td>\n",
       "    </tr>\n",
       "    <tr>\n",
       "      <th>2</th>\n",
       "      <td>GNB</td>\n",
       "      <td>0.828103</td>\n",
       "      <td>0.549493</td>\n",
       "    </tr>\n",
       "  </tbody>\n",
       "</table>\n",
       "</div>"
      ],
      "text/plain": [
       "   Algorithm  Accuracy  Precision\n",
       "8        ETC  0.960984   0.952959\n",
       "5         RF  0.950240   0.931994\n",
       "7        BgC  0.956743   0.925439\n",
       "0        SVC  0.961549   0.913103\n",
       "10       XGB  0.957874   0.910364\n",
       "9       GBDT  0.952219   0.897472\n",
       "4         LR  0.925643   0.836182\n",
       "6   AdaBoost  0.933842   0.834446\n",
       "1         KN  0.929036   0.780742\n",
       "3         DT  0.912355   0.776333\n",
       "2        GNB  0.828103   0.549493"
      ]
     },
     "execution_count": 64,
     "metadata": {},
     "output_type": "execute_result"
    }
   ],
   "source": [
    "performance_df.sort_values('Precision',ascending = False)"
   ]
  },
  {
   "cell_type": "code",
   "execution_count": 65,
   "metadata": {
    "_cell_guid": "89b02a26-5029-483e-93cc-d56f78894938",
    "_uuid": "b3c70a03-0bf8-47c3-a409-35bd03eef227",
    "jupyter": {
     "outputs_hidden": false
    }
   },
   "outputs": [],
   "source": [
    "# grid_params = { 'criterion' : ['gini','entropy','log_loss'],\n",
    "#                'bootstrap' : [True,False],\n",
    "#                'max_depth':[5,10,50,100],\n",
    "#                'n_estimators':[100,150,200,250,500],\n",
    "#                'max_features':['sqrt', 'log2'],\n",
    "#                'max_leaf_nodes':[20,50,100]}\n",
    "# fit_clf = RandomForestClassifier()\n",
    "# clf = GridSearchCV(fit_clf, grid_params,n_jobs=-1,verbose=1)\n",
    "# clf.fit(X_train_scaled,y_train)"
   ]
  },
  {
   "cell_type": "code",
   "execution_count": 66,
   "metadata": {
    "_cell_guid": "df371790-59ee-4eb0-99c4-db7e894aef87",
    "_uuid": "ad1f42fc-4bd0-47c6-857b-fe614a6aeca5",
    "jupyter": {
     "outputs_hidden": false
    }
   },
   "outputs": [],
   "source": [
    "# clf.best_params_"
   ]
  },
  {
   "cell_type": "code",
   "execution_count": 67,
   "metadata": {
    "_cell_guid": "6c4c1e9f-9f67-4ad8-b806-aa88acd121ca",
    "_uuid": "10bc0264-0a8b-48af-82bd-8b7202d609a7",
    "jupyter": {
     "outputs_hidden": false
    }
   },
   "outputs": [],
   "source": [
    "# clf.best_score_"
   ]
  },
  {
   "cell_type": "code",
   "execution_count": 68,
   "metadata": {
    "_cell_guid": "9cd6f82e-a633-40d5-9280-e4191aae0978",
    "_uuid": "a886d600-3757-4c60-adc8-41b0979c77ed",
    "jupyter": {
     "outputs_hidden": false
    }
   },
   "outputs": [],
   "source": [
    "# clf.cv_results_"
   ]
  },
  {
   "cell_type": "code",
   "execution_count": 69,
   "metadata": {
    "_cell_guid": "6d451cea-761b-4ef3-a320-6f4b53f6ac3c",
    "_uuid": "62ef03e3-45cb-4e3e-bc74-dd3d7fa6d3a1",
    "jupyter": {
     "outputs_hidden": false
    }
   },
   "outputs": [],
   "source": [
    "# from sklearn.metrics import roc_curve, auc,classification_report,confusion_matrix\n",
    "# train_fpr,train_tpr,thresholds=roc_curve(y_train,clf.predict_proba(X_train_transformed)[:,1])\n",
    "# test_fpr,test_tpr,thresholds=roc_curve(y_test,clf.predict_proba(X_test_transformed)[:,1])"
   ]
  },
  {
   "cell_type": "code",
   "execution_count": 70,
   "metadata": {
    "_cell_guid": "e9d26eb7-401c-4d29-a9a3-b2a3bb8520c5",
    "_uuid": "e7fb66ae-c6f6-4050-810d-94bd4aa6496e",
    "jupyter": {
     "outputs_hidden": false
    }
   },
   "outputs": [],
   "source": [
    "# clf.score(X_test_transformed,y_test)"
   ]
  },
  {
   "cell_type": "code",
   "execution_count": 71,
   "metadata": {
    "_cell_guid": "3f1607fb-5837-401d-bc40-5884cbf4e78a",
    "_uuid": "5346811c-abe0-4add-8141-b986db63fdb3",
    "jupyter": {
     "outputs_hidden": false
    }
   },
   "outputs": [],
   "source": [
    "# import matplotlib.pyplot as plt\n",
    "# plt.plot(train_fpr,train_tpr,label=\"Training Accuracy=\"+str(round(auc(train_fpr, train_tpr),2)))\n",
    "# plt.plot(test_fpr,test_tpr,label=\"Testing Accuracy =\"+str(round(auc(test_fpr, test_tpr),2)))\n",
    "# plt.scatter(train_fpr,train_tpr,label=\"Training Accuracy=\"+str(round(auc(train_fpr, train_tpr),2)))\n",
    "# plt.scatter(test_fpr,test_tpr,label=\"Testing Accuracy =\"+str(round(auc(test_fpr, test_tpr),2)))\n",
    "# plt.legend()\n",
    "# plt.xlabel(\"Thresholds\")\n",
    "# plt.ylabel(\"ACCURACY\")\n",
    "# plt.title(\"Training and Testing ROC Curves\")\n",
    "# plt.show()"
   ]
  },
  {
   "cell_type": "code",
   "execution_count": 72,
   "metadata": {},
   "outputs": [],
   "source": [
    "# clfs.keys()"
   ]
  },
  {
   "cell_type": "code",
   "execution_count": 73,
   "metadata": {},
   "outputs": [],
   "source": [
    "def prediction_calculator(clf, X_train, y_train, X_test, y_test):\n",
    "    \"\"\"\n",
    "    Trains a classifier on the training data and predicts on the test data.\n",
    "\n",
    "    Args:\n",
    "    - clf: The classifier object to use for training and predicting.\n",
    "    - X_train: The training data features.\n",
    "    - y_train: The training data target labels.\n",
    "    - X_test: The test data features.\n",
    "    - y_test: The test data target labels.\n",
    "\n",
    "    Returns:\n",
    "    - y_pred: The predicted labels for the test data.\n",
    "    \"\"\"\n",
    "    clf.fit(X_train, y_train)\n",
    "    y_pred = clf.predict(X_test)\n",
    "    return y_pred\n"
   ]
  },
  {
   "cell_type": "code",
   "execution_count": 74,
   "metadata": {},
   "outputs": [
    {
     "data": {
      "image/png": "[encoded data removed]",
      "text/plain": [
       "<Figure size 432x288 with 2 Axes>"
      ]
     },
     "metadata": {
      "needs_background": "light"
     },
     "output_type": "display_data"
    }
   ],
   "source": [
    "# Calculate predictions and plot confusion matrix for Random Forest Classifier\n",
    "y_pred = prediction_calculator(clfs['XGB'], X_train_scaled, y_train, X_test_scaled, y_test)\n",
    "cm = confusion_matrix(y_test, y_pred)\n",
    "ConfusionMatrixDisplay(confusion_matrix=cm).plot()\n",
    "\n",
    "# Add title and show plot\n",
    "plt.title('Confusion Matrix for Xgboost Classifier')\n",
    "plt.show()\n"
   ]
  },
  {
   "cell_type": "code",
   "execution_count": 75,
   "metadata": {},
   "outputs": [
    {
     "data": {
      "image/png": "[encoded data removed]",
      "text/plain": [
       "<Figure size 432x288 with 2 Axes>"
      ]
     },
     "metadata": {
      "needs_background": "light"
     },
     "output_type": "display_data"
    }
   ],
   "source": [
    "# Calculate predictions using Extra Trees Classifier\n",
    "y_pred = prediction_calculator(clfs['ETC'], X_train_scaled, y_train, X_test_scaled, y_test)\n",
    "\n",
    "# Generate confusion matrix\n",
    "cm = confusion_matrix(y_test, y_pred)\n",
    "ConfusionMatrixDisplay(confusion_matrix=cm).plot()\n",
    "\n",
    "# Display confusion matrix with title\n",
    "plt.title('Confusion Matrix for Extra Trees Classifier')\n",
    "plt.show()\n"
   ]
  },
  {
   "cell_type": "code",
   "execution_count": 76,
   "metadata": {},
   "outputs": [
    {
     "data": {
      "image/png": "[encoded data removed]",
      "text/plain": [
       "<Figure size 432x288 with 2 Axes>"
      ]
     },
     "metadata": {
      "needs_background": "light"
     },
     "output_type": "display_data"
    }
   ],
   "source": [
    "# Calculate prediction using Bagging Classifier\n",
    "y_pred = prediction_calculator(clfs['BgC'], X_train_scaled, y_train, X_test_scaled, y_test)\n",
    "\n",
    "# Calculate confusion matrix\n",
    "cm = confusion_matrix(y_test, y_pred)\n",
    "\n",
    "# Plot confusion matrix\n",
    "ConfusionMatrixDisplay(confusion_matrix=cm).plot()\n",
    "plt.title('Confusion Matrix for Bagging Classifier')\n",
    "plt.show()\n"
   ]
  },
  {
   "cell_type": "code",
   "execution_count": 77,
   "metadata": {
    "_cell_guid": "0e03dc7f-4e55-450a-a7d8-83caccc83d59",
    "_uuid": "107fe144-839b-4562-8c39-593d184a90b8",
    "jupyter": {
     "outputs_hidden": false
    }
   },
   "outputs": [
    {
     "name": "stdout",
     "output_type": "stream",
     "text": [
      "              precision    recall  f1-score   support\n",
      "\n",
      "           0       0.96      0.98      0.97      2802\n",
      "           1       0.93      0.83      0.87       735\n",
      "\n",
      "    accuracy                           0.95      3537\n",
      "   macro avg       0.94      0.91      0.92      3537\n",
      "weighted avg       0.95      0.95      0.95      3537\n",
      "\n"
     ]
    }
   ],
   "source": [
    "# Print classification report for predicted values using Random Forest classifier\n",
    "print(classification_report(y_test, prediction_calculator(clfs['RF'], X_train_scaled, y_train, X_test_scaled, y_test)))\n"
   ]
  },
  {
   "cell_type": "code",
   "execution_count": 78,
   "metadata": {},
   "outputs": [
    {
     "name": "stdout",
     "output_type": "stream",
     "text": [
      "              precision    recall  f1-score   support\n",
      "\n",
      "           0       0.96      0.99      0.98      2802\n",
      "           1       0.96      0.86      0.91       735\n",
      "\n",
      "    accuracy                           0.96      3537\n",
      "   macro avg       0.96      0.92      0.94      3537\n",
      "weighted avg       0.96      0.96      0.96      3537\n",
      "\n"
     ]
    }
   ],
   "source": [
    "# Print classification report for predicted values using Extra Trees classifier\n",
    "print(classification_report(y_test,prediction_calculator(clfs['ETC'],X_train_scaled,y_train,X_test_scaled,y_test)))"
   ]
  },
  {
   "cell_type": "code",
   "execution_count": 79,
   "metadata": {},
   "outputs": [
    {
     "name": "stdout",
     "output_type": "stream",
     "text": [
      "              precision    recall  f1-score   support\n",
      "\n",
      "           0       0.96      0.98      0.97      2802\n",
      "           1       0.92      0.86      0.89       735\n",
      "\n",
      "    accuracy                           0.96      3537\n",
      "   macro avg       0.94      0.92      0.93      3537\n",
      "weighted avg       0.96      0.96      0.96      3537\n",
      "\n"
     ]
    }
   ],
   "source": [
    "# Print classification report for predicted values using Bagging classifier\n",
    "print(classification_report(y_test,prediction_calculator(clfs['BgC'],X_train_scaled,y_train,X_test_scaled,y_test)))"
   ]
  },
  {
   "cell_type": "markdown",
   "metadata": {},
   "source": [
    "# Neural Network"
   ]
  },
  {
   "cell_type": "code",
   "execution_count": 80,
   "metadata": {},
   "outputs": [],
   "source": [
    "# !pip install tensorflow"
   ]
  },
  {
   "cell_type": "code",
   "execution_count": 81,
   "metadata": {},
   "outputs": [],
   "source": [
    "import tensorflow as tf\n",
    "from tensorflow import keras\n",
    "\n",
    "\n",
    "def print_layer_output(model: keras.Model, layer_name: str, inputs: tf.Tensor) -> None:\n",
    "    \"\"\"\n",
    "    Prints the output of a specific layer in the given model for the given inputs.\n",
    "    \n",
    "    Args:\n",
    "    - model: keras.Model, the model that contains the layer we want to print the output for.\n",
    "    - layer_name: str, the name of the layer we want to print the output for.\n",
    "    - inputs: tf.Tensor, the inputs to the model.\n",
    "    \"\"\"\n",
    "    layer_output = model.get_layer(layer_name).output\n",
    "    intermediate_layer_model = keras.Model(inputs=model.input, outputs=layer_output)\n",
    "    intermediate_output = intermediate_layer_model.predict(inputs)\n",
    "    print(f\"Output of layer {layer_name}: {intermediate_output}\")\n",
    "    \n"
   ]
  },
  {
   "cell_type": "code",
   "execution_count": 82,
   "metadata": {},
   "outputs": [],
   "source": [
    "import numpy as np\n",
    "import matplotlib.pyplot as plt\n",
    "from keras.models import Sequential\n",
    "from keras.layers.core import Dense\n",
    "from keras.optimizers import RMSprop, Adam\n",
    "\n",
    "from rbflayer import RBFLayer, InitCentersRandom\n",
    "from kmeans_initializer import InitCentersKMeans\n",
    "\n",
    "from tensorflow.keras.models import Sequential\n",
    "from tensorflow.keras.layers import Dense\n",
    "from tensorflow.keras.optimizers import Adam\n",
    "from tensorflow.keras.losses import BinaryCrossentropy\n",
    "from tensorflow.keras.callbacks import LambdaCallback"
   ]
  },
  {
   "cell_type": "code",
   "execution_count": 83,
   "metadata": {
    "tags": []
   },
   "outputs": [
    {
     "name": "stdout",
     "output_type": "stream",
     "text": [
      "Model: \"ANN_Model\"\n",
      "_________________________________________________________________\n",
      " Layer (type)                Output Shape              Param #   \n",
      "=================================================================\n",
      " dense (Dense)               (None, 5)                 505       \n",
      "                                                                 \n",
      " dense_1 (Dense)             (None, 3)                 18        \n",
      "                                                                 \n",
      " dense_2 (Dense)             (None, 4)                 16        \n",
      "                                                                 \n",
      " dense_3 (Dense)             (None, 1)                 5         \n",
      "                                                                 \n",
      "=================================================================\n",
      "Total params: 544\n",
      "Trainable params: 544\n",
      "Non-trainable params: 0\n",
      "_________________________________________________________________\n"
     ]
    }
   ],
   "source": [
    "callback = tf.keras.callbacks.EarlyStopping(monitor='val_loss',patience=3)\n",
    "\n",
    "model = Sequential(name='ANN_Model')\n",
    "\n",
    "model.add(Dense(5,activation='relu',input_dim = feature_size))\n",
    "model.add(Dense(3,activation='relu'))\n",
    "model.add(Dense(4,activation='relu'))\n",
    "# model.add(Dense(1,activation='relu'))\n",
    "# model.add(Dense(5,activation='relu'))\n",
    "model.add(Dense(1,activation='sigmoid'))\n",
    "\n",
    "lr_schedule = keras.optimizers.schedules.ExponentialDecay(\n",
    "    initial_learning_rate=0.0001,\n",
    "    decay_steps=5,\n",
    "    decay_rate=0.00000009)\n",
    "\n",
    "model.compile(optimizer=tf.keras.optimizers.Adam(learning_rate=0.0005),\n",
    "              loss=tf.keras.losses.BinaryCrossentropy(),metrics = ['accuracy']\n",
    "             )\n",
    "model.summary()"
   ]
  },
  {
   "cell_type": "code",
   "execution_count": 84,
   "metadata": {
    "tags": []
   },
   "outputs": [
    {
     "name": "stdout",
     "output_type": "stream",
     "text": [
      "Epoch 1/1000\n",
      "467/467 [==============================] - 4s 5ms/step - loss: 0.5687 - accuracy: 0.8241 - val_loss: 0.3851 - val_accuracy: 0.9137\n",
      "Epoch 2/1000\n",
      "467/467 [==============================] - 2s 4ms/step - loss: 0.2455 - accuracy: 0.9338 - val_loss: 0.1906 - val_accuracy: 0.9308\n",
      "Epoch 3/1000\n",
      "467/467 [==============================] - 2s 5ms/step - loss: 0.1515 - accuracy: 0.9464 - val_loss: 0.1639 - val_accuracy: 0.9403\n",
      "Epoch 4/1000\n",
      "467/467 [==============================] - 3s 5ms/step - loss: 0.1303 - accuracy: 0.9516 - val_loss: 0.1556 - val_accuracy: 0.9415\n",
      "Epoch 5/1000\n",
      "467/467 [==============================] - 3s 6ms/step - loss: 0.1197 - accuracy: 0.9559 - val_loss: 0.1526 - val_accuracy: 0.9451\n",
      "Epoch 6/1000\n",
      "467/467 [==============================] - 3s 5ms/step - loss: 0.1134 - accuracy: 0.9571 - val_loss: 0.1498 - val_accuracy: 0.9491\n",
      "Epoch 7/1000\n",
      "467/467 [==============================] - 2s 5ms/step - loss: 0.1078 - accuracy: 0.9616 - val_loss: 0.1485 - val_accuracy: 0.9507\n",
      "Epoch 8/1000\n",
      "467/467 [==============================] - 2s 5ms/step - loss: 0.1036 - accuracy: 0.9634 - val_loss: 0.1481 - val_accuracy: 0.9503\n",
      "Epoch 9/1000\n",
      "467/467 [==============================] - 2s 5ms/step - loss: 0.0997 - accuracy: 0.9649 - val_loss: 0.1476 - val_accuracy: 0.9519\n",
      "Epoch 10/1000\n",
      "467/467 [==============================] - 2s 5ms/step - loss: 0.0970 - accuracy: 0.9653 - val_loss: 0.1470 - val_accuracy: 0.9535\n",
      "Epoch 11/1000\n",
      "467/467 [==============================] - 3s 5ms/step - loss: 0.0937 - accuracy: 0.9672 - val_loss: 0.1476 - val_accuracy: 0.9531\n",
      "Epoch 12/1000\n",
      "467/467 [==============================] - 3s 6ms/step - loss: 0.0914 - accuracy: 0.9694 - val_loss: 0.1486 - val_accuracy: 0.9519\n",
      "Epoch 13/1000\n",
      "467/467 [==============================] - 2s 5ms/step - loss: 0.0890 - accuracy: 0.9706 - val_loss: 0.1485 - val_accuracy: 0.9511\n"
     ]
    }
   ],
   "source": [
    "# Create a LambdaCallback to call our custom function after each epoch\n",
    "# print_callback = LambdaCallback(on_epoch_end=lambda epoch, logs: print_layer_output(model, \"rbflayer\", X_train_scaled))\n",
    "\n",
    "performance = model.fit(X_train_scaled,y_train,epochs = 1000,batch_size = 10,verbose = 1,validation_split=0.35,callbacks = [callback])\n"
   ]
  },
  {
   "cell_type": "code",
   "execution_count": 85,
   "metadata": {},
   "outputs": [],
   "source": [
    "# performance.history"
   ]
  },
  {
   "cell_type": "code",
   "execution_count": 86,
   "metadata": {},
   "outputs": [
    {
     "data": {
      "text/plain": [
       "<matplotlib.legend.Legend at 0x1deaeb06c20>"
      ]
     },
     "execution_count": 86,
     "metadata": {},
     "output_type": "execute_result"
    },
    {
     "data": {
      "image/png": "[encoded data removed]",
      "text/plain": [
       "<Figure size 432x288 with 1 Axes>"
      ]
     },
     "metadata": {
      "needs_background": "light"
     },
     "output_type": "display_data"
    }
   ],
   "source": [
    "\n",
    "import matplotlib.pyplot as plt\n",
    "plt.plot(performance.history['accuracy'],label='Training Accuracy')\n",
    "plt.plot(performance.history['val_accuracy'],label='Validation Accuracy')\n",
    "plt.xlabel('epochs')\n",
    "plt.ylabel('accuracy')\n",
    "plt.title('epochs vs accuracy for ANN model $(lr = 0.0005)$')\n",
    "plt.legend()"
   ]
  },
  {
   "cell_type": "code",
   "execution_count": 87,
   "metadata": {
    "scrolled": true
   },
   "outputs": [
    {
     "data": {
      "text/plain": [
       "<matplotlib.legend.Legend at 0x1deb75ddf30>"
      ]
     },
     "execution_count": 87,
     "metadata": {},
     "output_type": "execute_result"
    },
    {
     "data": {
      "image/png": "[encoded data removed]",
      "text/plain": [
       "<Figure size 432x288 with 1 Axes>"
      ]
     },
     "metadata": {
      "needs_background": "light"
     },
     "output_type": "display_data"
    }
   ],
   "source": [
    "import matplotlib.pyplot as plt\n",
    "plt.plot(performance.history['loss'],label='Training Loss')\n",
    "plt.plot(performance.history['val_loss'], label = 'Validation loss')\n",
    "plt.xlabel('epochs')\n",
    "plt.ylabel('loss')\n",
    "plt.title('epochs vs loss for ANN model $(lr = 0.0005)$')\n",
    "plt.legend()"
   ]
  },
  {
   "cell_type": "code",
   "execution_count": 88,
   "metadata": {
    "scrolled": true
   },
   "outputs": [],
   "source": [
    "# predictions = model.predict(X_test_scaled)\n",
    "# predictions\n",
    "\n",
    "# import matplotlib.pyplot as plt\n",
    "# import numpy as np\n",
    "# from sklearn import metrics\n",
    "# # y = np.array([0, 0, 1, 1])\n",
    "# # pred = np.array([0.1, 0.4, 0.35, 0.8])\n",
    "# fpr, tpr, thresholds = metrics.roc_curve(y_test, predictions)\n",
    "# roc_auc = metrics.auc(fpr, tpr)\n",
    "# display = metrics.RocCurveDisplay(fpr=fpr, tpr=tpr, roc_auc=roc_auc,\n",
    "#                                   estimator_name='Artificial Neural Network')\n",
    "# display.plot()\n",
    "\n",
    "# plt.show()"
   ]
  },
  {
   "cell_type": "code",
   "execution_count": 89,
   "metadata": {},
   "outputs": [],
   "source": [
    "# predictions"
   ]
  },
  {
   "cell_type": "code",
   "execution_count": 90,
   "metadata": {},
   "outputs": [],
   "source": [
    "# np.argmax(predictions, axis=1)"
   ]
  },
  {
   "cell_type": "code",
   "execution_count": 91,
   "metadata": {
    "tags": []
   },
   "outputs": [],
   "source": [
    "from keras import backend as K\n",
    "from tensorflow.keras.layers import Layer\n",
    "from keras.initializers import RandomUniform, Initializer, Constant\n",
    "import numpy as np\n",
    "\n",
    "\n",
    "# class InitCentersRandom(Initializer):\n",
    "#     \"\"\" Initializer for initialization of centers of RBF network\n",
    "#         as random samples from the given data set.\n",
    "\n",
    "#     # Arguments\n",
    "#         X: matrix, dataset to choose the centers from (random rows\n",
    "#           are taken as centers)\n",
    "#     \"\"\"\n",
    "\n",
    "#     def __init__(self, X):\n",
    "#         self.X = X\n",
    "\n",
    "#     def __call__(self, shape, dtype=None):\n",
    "# \tassert shape[1] == self.X.shape[1]\n",
    "#   \tidx = np.random.randint(self.X.shape[0], size=shape[0])\n",
    "\n",
    "# \t# type checking to access elements of data correctly\n",
    "#   \tif type(self.X) == np.ndarray:\n",
    "#     \t\treturn self.X[idx, :]\n",
    "#   \telif type(self.X) == pd.core.frame.DataFrame:\n",
    "#     \t\treturn self.X.iloc[idx, :]\n",
    "\n",
    "\n",
    "class RBFLayer(Layer):\n",
    "    \"\"\" Layer of Gaussian RBF units.\n",
    "\n",
    "    # Example\n",
    "\n",
    "    ```python\n",
    "        model = Sequential()\n",
    "        model.add(RBFLayer(10,\n",
    "                           initializer=InitCentersRandom(X),\n",
    "                           betas=1.0,\n",
    "                           input_shape=(1,)))\n",
    "        model.add(Dense(1))\n",
    "    ```\n",
    "\n",
    "\n",
    "    # Arguments\n",
    "        output_dim: number of hidden units (i.e. number of outputs of the\n",
    "                    layer)\n",
    "        initializer: instance of initiliazer to initialize centers\n",
    "        betas: float, initial value for betas\n",
    "\n",
    "    \"\"\"\n",
    "\n",
    "    def __init__(self, output_dim, initializer=None, betas=1.0, **kwargs):\n",
    "        self.output_dim = output_dim\n",
    "        self.init_betas = betas\n",
    "        if not initializer:\n",
    "            self.initializer = RandomUniform(0.0, 1.0)\n",
    "        else:\n",
    "            self.initializer = initializer\n",
    "        super(RBFLayer, self).__init__(**kwargs)\n",
    "\n",
    "    def build(self, input_shape):\n",
    "\n",
    "        self.centers = self.add_weight(name='centers',\n",
    "                                       shape=(self.output_dim, input_shape[1]),\n",
    "                                       initializer=self.initializer,\n",
    "                                       trainable=False)\n",
    "        self.betas = self.add_weight(name='betas',\n",
    "                                     shape=(self.output_dim,),\n",
    "                                     initializer=Constant(\n",
    "                                         value=self.init_betas),\n",
    "                                     # initializer='ones',\n",
    "                                     trainable=False)\n",
    "\n",
    "        super(RBFLayer, self).build(input_shape)\n",
    "\n",
    "    def call(self, x):\n",
    "\n",
    "        C = K.expand_dims(self.centers)\n",
    "        H = K.transpose(C-K.transpose(x))\n",
    "        return K.exp(-self.betas * K.sum(H**2, axis=1))\n",
    "\n",
    "        # C = self.centers[np.newaxis, :, :]\n",
    "        # X = x[:, np.newaxis, :]\n",
    "\n",
    "        # diffnorm = K.sum((C-X)**2, axis=-1)\n",
    "        # ret = K.exp( - self.betas * diffnorm)\n",
    "        # return ret\n",
    "\n",
    "    def compute_output_shape(self, input_shape):\n",
    "        return (input_shape[0], self.output_dim)\n",
    "\n",
    "    def get_config(self):\n",
    "        # have to define get_config to be able to use model_from_json\n",
    "        config = {\n",
    "            'output_dim': self.output_dim\n",
    "        }\n",
    "        base_config = super(RBFLayer, self).get_config()\n",
    "        return dict(list(base_config.items()) + list(config.items()))"
   ]
  },
  {
   "cell_type": "code",
   "execution_count": 101,
   "metadata": {},
   "outputs": [],
   "source": [
    "from keras.layers import Dense, Flatten\n",
    "\n",
    "model1 = Sequential()\n",
    "model1.add(RBFLayer(2,betas=1500,initializer = InitCentersKMeans(X_train_scaled),input_shape = (100,)))\n",
    "model1.add(Dense(1, activation='sigmoid', name='outer_layer'))"
   ]
  },
  {
   "cell_type": "code",
   "execution_count": 102,
   "metadata": {},
   "outputs": [
    {
     "name": "stdout",
     "output_type": "stream",
     "text": [
      "Model: \"sequential_1\"\n",
      "_________________________________________________________________\n",
      " Layer (type)                Output Shape              Param #   \n",
      "=================================================================\n",
      " rbf_layer_1 (RBFLayer)      (None, 2)                 202       \n",
      "                                                                 \n",
      " outer_layer (Dense)         (None, 1)                 3         \n",
      "                                                                 \n",
      "=================================================================\n",
      "Total params: 205\n",
      "Trainable params: 3\n",
      "Non-trainable params: 202\n",
      "_________________________________________________________________\n"
     ]
    }
   ],
   "source": [
    "model1.summary()"
   ]
  },
  {
   "cell_type": "code",
   "execution_count": 103,
   "metadata": {},
   "outputs": [],
   "source": [
    "# model1.get_config()"
   ]
  },
  {
   "cell_type": "code",
   "execution_count": 104,
   "metadata": {},
   "outputs": [],
   "source": [
    "model1.compile(optimizer=tf.keras.optimizers.Adam(learning_rate=0.00051),\n",
    "              loss=tf.keras.losses.BinaryCrossentropy(),metrics = ['accuracy']\n",
    "             )"
   ]
  },
  {
   "cell_type": "code",
   "execution_count": 105,
   "metadata": {},
   "outputs": [
    {
     "name": "stdout",
     "output_type": "stream",
     "text": [
      "Epoch 1/1000\n",
      "1221/1221 [==============================] - 3s 2ms/step - loss: 0.6330 - accuracy: 0.7899 - val_loss: 0.5798 - val_accuracy: 0.8043\n",
      "Epoch 2/1000\n",
      "1221/1221 [==============================] - 2s 2ms/step - loss: 0.5600 - accuracy: 0.7899 - val_loss: 0.5293 - val_accuracy: 0.8043\n",
      "Epoch 3/1000\n",
      "1221/1221 [==============================] - 3s 2ms/step - loss: 0.5305 - accuracy: 0.7899 - val_loss: 0.5087 - val_accuracy: 0.8043\n",
      "Epoch 4/1000\n",
      "1221/1221 [==============================] - 2s 2ms/step - loss: 0.5195 - accuracy: 0.7899 - val_loss: 0.5004 - val_accuracy: 0.8043\n",
      "Epoch 5/1000\n",
      "1221/1221 [==============================] - 2s 2ms/step - loss: 0.5158 - accuracy: 0.7899 - val_loss: 0.4974 - val_accuracy: 0.8043\n",
      "Epoch 6/1000\n",
      "1221/1221 [==============================] - 2s 2ms/step - loss: 0.5146 - accuracy: 0.7899 - val_loss: 0.4961 - val_accuracy: 0.8043\n",
      "Epoch 7/1000\n",
      "1221/1221 [==============================] - 2s 2ms/step - loss: 0.5142 - accuracy: 0.7899 - val_loss: 0.4956 - val_accuracy: 0.8043\n",
      "Epoch 8/1000\n",
      "1221/1221 [==============================] - 2s 2ms/step - loss: 0.5141 - accuracy: 0.7899 - val_loss: 0.4954 - val_accuracy: 0.8043\n",
      "Epoch 9/1000\n",
      "1221/1221 [==============================] - 3s 2ms/step - loss: 0.5141 - accuracy: 0.7899 - val_loss: 0.4952 - val_accuracy: 0.8043\n",
      "Epoch 10/1000\n",
      "1221/1221 [==============================] - 3s 2ms/step - loss: 0.5141 - accuracy: 0.7899 - val_loss: 0.4951 - val_accuracy: 0.8043\n",
      "Epoch 11/1000\n",
      "1221/1221 [==============================] - 2s 2ms/step - loss: 0.5141 - accuracy: 0.7899 - val_loss: 0.4951 - val_accuracy: 0.8043\n",
      "Epoch 12/1000\n",
      "1221/1221 [==============================] - 2s 2ms/step - loss: 0.5141 - accuracy: 0.7899 - val_loss: 0.4951 - val_accuracy: 0.8043\n",
      "Epoch 13/1000\n",
      "1221/1221 [==============================] - 3s 2ms/step - loss: 0.5141 - accuracy: 0.7899 - val_loss: 0.4951 - val_accuracy: 0.8043\n",
      "Epoch 14/1000\n",
      "1221/1221 [==============================] - 2s 2ms/step - loss: 0.5141 - accuracy: 0.7899 - val_loss: 0.4950 - val_accuracy: 0.8043\n",
      "Epoch 15/1000\n",
      "1221/1221 [==============================] - 3s 2ms/step - loss: 0.5141 - accuracy: 0.7899 - val_loss: 0.4951 - val_accuracy: 0.8043\n",
      "Epoch 16/1000\n",
      "1221/1221 [==============================] - 3s 2ms/step - loss: 0.5141 - accuracy: 0.7899 - val_loss: 0.4950 - val_accuracy: 0.8043\n",
      "Epoch 17/1000\n",
      "1221/1221 [==============================] - 3s 2ms/step - loss: 0.5141 - accuracy: 0.7899 - val_loss: 0.4950 - val_accuracy: 0.8043\n"
     ]
    }
   ],
   "source": [
    "performance = model1.fit(X_train_scaled,y_train,epochs = 1000,batch_size = 5,verbose = 1,validation_split=0.15,callbacks=[callback])"
   ]
  },
  {
   "cell_type": "code",
   "execution_count": 106,
   "metadata": {
    "scrolled": true
   },
   "outputs": [
    {
     "data": {
      "text/plain": [
       "<matplotlib.legend.Legend at 0x1deb8b10f40>"
      ]
     },
     "execution_count": 106,
     "metadata": {},
     "output_type": "execute_result"
    },
    {
     "data": {
      "image/png": "[encoded data removed]",
      "text/plain": [
       "<Figure size 432x288 with 1 Axes>"
      ]
     },
     "metadata": {
      "needs_background": "light"
     },
     "output_type": "display_data"
    }
   ],
   "source": [
    "import matplotlib.pyplot as plt\n",
    "plt.plot(performance.history['accuracy'],label='Training Accuracy')\n",
    "plt.plot(performance.history['val_accuracy'],label='Validation Accuracy')\n",
    "plt.xlabel('epochs')\n",
    "plt.ylabel('accuracy')\n",
    "plt.title('epochs vs accuracy for RBF model $(lr = 0.0005)$')\n",
    "plt.legend()"
   ]
  },
  {
   "cell_type": "code",
   "execution_count": 107,
   "metadata": {
    "scrolled": true
   },
   "outputs": [
    {
     "data": {
      "text/plain": [
       "<matplotlib.legend.Legend at 0x1deb8d5b370>"
      ]
     },
     "execution_count": 107,
     "metadata": {},
     "output_type": "execute_result"
    },
    {
     "data": {
      "image/png": "[encoded data removed]",
      "text/plain": [
       "<Figure size 432x288 with 1 Axes>"
      ]
     },
     "metadata": {
      "needs_background": "light"
     },
     "output_type": "display_data"
    }
   ],
   "source": [
    "import matplotlib.pyplot as plt\n",
    "plt.plot(performance.history['loss'],label='Training Loss')\n",
    "plt.plot(performance.history['val_loss'], label = 'Validation loss')\n",
    "plt.xlabel('epochs')\n",
    "plt.ylabel('loss')\n",
    "plt.title('epochs vs loss for RBF model $(lr = 0.0005)$')\n",
    "plt.legend()"
   ]
  },
  {
   "cell_type": "code",
   "execution_count": null,
   "metadata": {},
   "outputs": [],
   "source": []
  },
  {
   "cell_type": "code",
   "execution_count": 108,
   "metadata": {
    "scrolled": false
   },
   "outputs": [
    {
     "name": "stdout",
     "output_type": "stream",
     "text": [
      "111/111 [==============================] - 0s 1ms/step\n"
     ]
    },
    {
     "data": {
      "image/png": "[encoded data removed]",
      "text/plain": [
       "<Figure size 432x288 with 1 Axes>"
      ]
     },
     "metadata": {
      "needs_background": "light"
     },
     "output_type": "display_data"
    }
   ],
   "source": [
    "predictions = model1.predict(X_test_scaled)\n",
    "import matplotlib.pyplot as plt\n",
    "import numpy as np\n",
    "from sklearn import metrics\n",
    "fpr, tpr, thresholds = metrics.roc_curve(y_test, predictions)\n",
    "roc_auc = metrics.auc(fpr, tpr)\n",
    "display = metrics.RocCurveDisplay(fpr=fpr, tpr=tpr, roc_auc=roc_auc,\n",
    "                                  estimator_name='RBF_NN')\n",
    "display.plot()\n",
    "\n",
    "plt.show()"
   ]
  },
  {
   "cell_type": "code",
   "execution_count": 109,
   "metadata": {
    "scrolled": true
   },
   "outputs": [
    {
     "name": "stdout",
     "output_type": "stream",
     "text": [
      "111/111 [==============================] - 0s 1ms/step\n"
     ]
    },
    {
     "data": {
      "image/png": "[encoded data removed]",
      "text/plain": [
       "<Figure size 432x288 with 1 Axes>"
      ]
     },
     "metadata": {
      "needs_background": "light"
     },
     "output_type": "display_data"
    }
   ],
   "source": [
    "predictions = model.predict(X_test_scaled)\n",
    "import matplotlib.pyplot as plt\n",
    "import numpy as np\n",
    "from sklearn import metrics\n",
    "fpr, tpr, thresholds = metrics.roc_curve(y_test, predictions)\n",
    "roc_auc = metrics.auc(fpr, tpr)\n",
    "display = metrics.RocCurveDisplay(fpr=fpr, tpr=tpr, roc_auc=roc_auc,\n",
    "                                  estimator_name='ANN')\n",
    "display.plot()\n",
    "\n",
    "plt.show()"
   ]
  },
  {
   "cell_type": "code",
   "execution_count": null,
   "metadata": {},
   "outputs": [],
   "source": []
  }
 ],
 "metadata": {
  "kernelspec": {
   "display_name": "Python 3 (ipykernel)",
   "language": "python",
   "name": "python3"
  },
  "language_info": {
   "codemirror_mode": {
    "name": "ipython",
    "version": 3
   },
   "file_extension": ".py",
   "mimetype": "text/x-python",
   "name": "python",
   "nbconvert_exporter": "python",
   "pygments_lexer": "ipython3",
   "version": "3.10.5"
  },
  "toc-autonumbering": true,
  "toc-showcode": false,
  "toc-showmarkdowntxt": false
 },
 "nbformat": 4,
 "nbformat_minor": 4
}
